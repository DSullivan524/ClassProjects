{
 "cells": [
  {
   "cell_type": "code",
   "execution_count": 1,
   "id": "d4293759-30ad-434c-bf53-65321bc35071",
   "metadata": {},
   "outputs": [
    {
     "data": {
      "text/html": [
       "<div>\n",
       "<style scoped>\n",
       "    .dataframe tbody tr th:only-of-type {\n",
       "        vertical-align: middle;\n",
       "    }\n",
       "\n",
       "    .dataframe tbody tr th {\n",
       "        vertical-align: top;\n",
       "    }\n",
       "\n",
       "    .dataframe thead th {\n",
       "        text-align: right;\n",
       "    }\n",
       "</style>\n",
       "<table border=\"1\" class=\"dataframe\">\n",
       "  <thead>\n",
       "    <tr style=\"text-align: right;\">\n",
       "      <th></th>\n",
       "      <th>Gender</th>\n",
       "      <th>Age</th>\n",
       "      <th>Height</th>\n",
       "      <th>Weight</th>\n",
       "      <th>family_history_with_overweight</th>\n",
       "      <th>FAVC</th>\n",
       "      <th>FCVC</th>\n",
       "      <th>NCP</th>\n",
       "      <th>CAEC</th>\n",
       "      <th>SMOKE</th>\n",
       "      <th>CH2O</th>\n",
       "      <th>SCC</th>\n",
       "      <th>FAF</th>\n",
       "      <th>TUE</th>\n",
       "      <th>CALC</th>\n",
       "      <th>MTRANS</th>\n",
       "      <th>NObeyesdad</th>\n",
       "    </tr>\n",
       "  </thead>\n",
       "  <tbody>\n",
       "    <tr>\n",
       "      <th>0</th>\n",
       "      <td>Female</td>\n",
       "      <td>21.0</td>\n",
       "      <td>1.62</td>\n",
       "      <td>64.0</td>\n",
       "      <td>yes</td>\n",
       "      <td>no</td>\n",
       "      <td>2.0</td>\n",
       "      <td>3.0</td>\n",
       "      <td>Sometimes</td>\n",
       "      <td>no</td>\n",
       "      <td>2.0</td>\n",
       "      <td>no</td>\n",
       "      <td>0.0</td>\n",
       "      <td>1.0</td>\n",
       "      <td>no</td>\n",
       "      <td>Public_Transportation</td>\n",
       "      <td>Normal_Weight</td>\n",
       "    </tr>\n",
       "    <tr>\n",
       "      <th>1</th>\n",
       "      <td>Female</td>\n",
       "      <td>21.0</td>\n",
       "      <td>1.52</td>\n",
       "      <td>56.0</td>\n",
       "      <td>yes</td>\n",
       "      <td>no</td>\n",
       "      <td>3.0</td>\n",
       "      <td>3.0</td>\n",
       "      <td>Sometimes</td>\n",
       "      <td>yes</td>\n",
       "      <td>3.0</td>\n",
       "      <td>yes</td>\n",
       "      <td>3.0</td>\n",
       "      <td>0.0</td>\n",
       "      <td>Sometimes</td>\n",
       "      <td>Public_Transportation</td>\n",
       "      <td>Normal_Weight</td>\n",
       "    </tr>\n",
       "    <tr>\n",
       "      <th>2</th>\n",
       "      <td>Male</td>\n",
       "      <td>23.0</td>\n",
       "      <td>1.80</td>\n",
       "      <td>77.0</td>\n",
       "      <td>yes</td>\n",
       "      <td>no</td>\n",
       "      <td>2.0</td>\n",
       "      <td>3.0</td>\n",
       "      <td>Sometimes</td>\n",
       "      <td>no</td>\n",
       "      <td>2.0</td>\n",
       "      <td>no</td>\n",
       "      <td>2.0</td>\n",
       "      <td>1.0</td>\n",
       "      <td>Frequently</td>\n",
       "      <td>Public_Transportation</td>\n",
       "      <td>Normal_Weight</td>\n",
       "    </tr>\n",
       "    <tr>\n",
       "      <th>3</th>\n",
       "      <td>Male</td>\n",
       "      <td>27.0</td>\n",
       "      <td>1.80</td>\n",
       "      <td>87.0</td>\n",
       "      <td>no</td>\n",
       "      <td>no</td>\n",
       "      <td>3.0</td>\n",
       "      <td>3.0</td>\n",
       "      <td>Sometimes</td>\n",
       "      <td>no</td>\n",
       "      <td>2.0</td>\n",
       "      <td>no</td>\n",
       "      <td>2.0</td>\n",
       "      <td>0.0</td>\n",
       "      <td>Frequently</td>\n",
       "      <td>Walking</td>\n",
       "      <td>Overweight_Level_I</td>\n",
       "    </tr>\n",
       "    <tr>\n",
       "      <th>4</th>\n",
       "      <td>Male</td>\n",
       "      <td>22.0</td>\n",
       "      <td>1.78</td>\n",
       "      <td>89.8</td>\n",
       "      <td>no</td>\n",
       "      <td>no</td>\n",
       "      <td>2.0</td>\n",
       "      <td>1.0</td>\n",
       "      <td>Sometimes</td>\n",
       "      <td>no</td>\n",
       "      <td>2.0</td>\n",
       "      <td>no</td>\n",
       "      <td>0.0</td>\n",
       "      <td>0.0</td>\n",
       "      <td>Sometimes</td>\n",
       "      <td>Public_Transportation</td>\n",
       "      <td>Overweight_Level_II</td>\n",
       "    </tr>\n",
       "  </tbody>\n",
       "</table>\n",
       "</div>"
      ],
      "text/plain": [
       "   Gender   Age  Height  Weight family_history_with_overweight FAVC  FCVC  \\\n",
       "0  Female  21.0    1.62    64.0                            yes   no   2.0   \n",
       "1  Female  21.0    1.52    56.0                            yes   no   3.0   \n",
       "2    Male  23.0    1.80    77.0                            yes   no   2.0   \n",
       "3    Male  27.0    1.80    87.0                             no   no   3.0   \n",
       "4    Male  22.0    1.78    89.8                             no   no   2.0   \n",
       "\n",
       "   NCP       CAEC SMOKE  CH2O  SCC  FAF  TUE        CALC  \\\n",
       "0  3.0  Sometimes    no   2.0   no  0.0  1.0          no   \n",
       "1  3.0  Sometimes   yes   3.0  yes  3.0  0.0   Sometimes   \n",
       "2  3.0  Sometimes    no   2.0   no  2.0  1.0  Frequently   \n",
       "3  3.0  Sometimes    no   2.0   no  2.0  0.0  Frequently   \n",
       "4  1.0  Sometimes    no   2.0   no  0.0  0.0   Sometimes   \n",
       "\n",
       "                  MTRANS           NObeyesdad  \n",
       "0  Public_Transportation        Normal_Weight  \n",
       "1  Public_Transportation        Normal_Weight  \n",
       "2  Public_Transportation        Normal_Weight  \n",
       "3                Walking   Overweight_Level_I  \n",
       "4  Public_Transportation  Overweight_Level_II  "
      ]
     },
     "execution_count": 1,
     "metadata": {},
     "output_type": "execute_result"
    }
   ],
   "source": [
    "import numpy as np \n",
    "import matplotlib.pyplot as plt \n",
    "import pandas as pd \n",
    "\n",
    "#Final Report\n",
    "\n",
    "#Daniel Sullivan 801095863\n",
    "#David Molnar    801069069      \n",
    "#Mujeeb Quadri   801157040\n",
    "\n",
    "\n",
    "obesity = pd.DataFrame(pd.read_csv('ObesityDataSet_raw_and_data_sinthetic.csv'))\n",
    "obesity.head()"
   ]
  },
  {
   "cell_type": "code",
   "execution_count": 2,
   "id": "d2d55911-677e-41b2-b466-f240544e999b",
   "metadata": {},
   "outputs": [
    {
     "data": {
      "text/html": [
       "<div>\n",
       "<style scoped>\n",
       "    .dataframe tbody tr th:only-of-type {\n",
       "        vertical-align: middle;\n",
       "    }\n",
       "\n",
       "    .dataframe tbody tr th {\n",
       "        vertical-align: top;\n",
       "    }\n",
       "\n",
       "    .dataframe thead th {\n",
       "        text-align: right;\n",
       "    }\n",
       "</style>\n",
       "<table border=\"1\" class=\"dataframe\">\n",
       "  <thead>\n",
       "    <tr style=\"text-align: right;\">\n",
       "      <th></th>\n",
       "      <th>Gender</th>\n",
       "      <th>Age</th>\n",
       "      <th>Height</th>\n",
       "      <th>Weight</th>\n",
       "      <th>family_history_with_overweight</th>\n",
       "      <th>FAVC</th>\n",
       "      <th>FCVC</th>\n",
       "      <th>NCP</th>\n",
       "      <th>CAEC</th>\n",
       "      <th>SMOKE</th>\n",
       "      <th>CH2O</th>\n",
       "      <th>SCC</th>\n",
       "      <th>FAF</th>\n",
       "      <th>TUE</th>\n",
       "      <th>CALC</th>\n",
       "      <th>MTRANS</th>\n",
       "      <th>NObeyesdad</th>\n",
       "    </tr>\n",
       "  </thead>\n",
       "  <tbody>\n",
       "    <tr>\n",
       "      <th>0</th>\n",
       "      <td>0</td>\n",
       "      <td>21.000000</td>\n",
       "      <td>1.620000</td>\n",
       "      <td>64.000000</td>\n",
       "      <td>1</td>\n",
       "      <td>0</td>\n",
       "      <td>2.0</td>\n",
       "      <td>3.0</td>\n",
       "      <td>0</td>\n",
       "      <td>0</td>\n",
       "      <td>2.000000</td>\n",
       "      <td>0</td>\n",
       "      <td>0.000000</td>\n",
       "      <td>1.000000</td>\n",
       "      <td>0</td>\n",
       "      <td>1</td>\n",
       "      <td>Normal_Weight</td>\n",
       "    </tr>\n",
       "    <tr>\n",
       "      <th>1</th>\n",
       "      <td>0</td>\n",
       "      <td>21.000000</td>\n",
       "      <td>1.520000</td>\n",
       "      <td>56.000000</td>\n",
       "      <td>1</td>\n",
       "      <td>0</td>\n",
       "      <td>3.0</td>\n",
       "      <td>3.0</td>\n",
       "      <td>0</td>\n",
       "      <td>1</td>\n",
       "      <td>3.000000</td>\n",
       "      <td>1</td>\n",
       "      <td>3.000000</td>\n",
       "      <td>0.000000</td>\n",
       "      <td>0</td>\n",
       "      <td>1</td>\n",
       "      <td>Normal_Weight</td>\n",
       "    </tr>\n",
       "    <tr>\n",
       "      <th>2</th>\n",
       "      <td>1</td>\n",
       "      <td>23.000000</td>\n",
       "      <td>1.800000</td>\n",
       "      <td>77.000000</td>\n",
       "      <td>1</td>\n",
       "      <td>0</td>\n",
       "      <td>2.0</td>\n",
       "      <td>3.0</td>\n",
       "      <td>0</td>\n",
       "      <td>0</td>\n",
       "      <td>2.000000</td>\n",
       "      <td>0</td>\n",
       "      <td>2.000000</td>\n",
       "      <td>1.000000</td>\n",
       "      <td>1</td>\n",
       "      <td>1</td>\n",
       "      <td>Normal_Weight</td>\n",
       "    </tr>\n",
       "    <tr>\n",
       "      <th>3</th>\n",
       "      <td>1</td>\n",
       "      <td>27.000000</td>\n",
       "      <td>1.800000</td>\n",
       "      <td>87.000000</td>\n",
       "      <td>0</td>\n",
       "      <td>0</td>\n",
       "      <td>3.0</td>\n",
       "      <td>3.0</td>\n",
       "      <td>0</td>\n",
       "      <td>0</td>\n",
       "      <td>2.000000</td>\n",
       "      <td>0</td>\n",
       "      <td>2.000000</td>\n",
       "      <td>0.000000</td>\n",
       "      <td>1</td>\n",
       "      <td>0</td>\n",
       "      <td>Overweight_Level_I</td>\n",
       "    </tr>\n",
       "    <tr>\n",
       "      <th>4</th>\n",
       "      <td>1</td>\n",
       "      <td>22.000000</td>\n",
       "      <td>1.780000</td>\n",
       "      <td>89.800000</td>\n",
       "      <td>0</td>\n",
       "      <td>0</td>\n",
       "      <td>2.0</td>\n",
       "      <td>1.0</td>\n",
       "      <td>0</td>\n",
       "      <td>0</td>\n",
       "      <td>2.000000</td>\n",
       "      <td>0</td>\n",
       "      <td>0.000000</td>\n",
       "      <td>0.000000</td>\n",
       "      <td>0</td>\n",
       "      <td>1</td>\n",
       "      <td>Overweight_Level_II</td>\n",
       "    </tr>\n",
       "    <tr>\n",
       "      <th>...</th>\n",
       "      <td>...</td>\n",
       "      <td>...</td>\n",
       "      <td>...</td>\n",
       "      <td>...</td>\n",
       "      <td>...</td>\n",
       "      <td>...</td>\n",
       "      <td>...</td>\n",
       "      <td>...</td>\n",
       "      <td>...</td>\n",
       "      <td>...</td>\n",
       "      <td>...</td>\n",
       "      <td>...</td>\n",
       "      <td>...</td>\n",
       "      <td>...</td>\n",
       "      <td>...</td>\n",
       "      <td>...</td>\n",
       "      <td>...</td>\n",
       "    </tr>\n",
       "    <tr>\n",
       "      <th>2106</th>\n",
       "      <td>0</td>\n",
       "      <td>20.976842</td>\n",
       "      <td>1.710730</td>\n",
       "      <td>131.408528</td>\n",
       "      <td>1</td>\n",
       "      <td>1</td>\n",
       "      <td>3.0</td>\n",
       "      <td>3.0</td>\n",
       "      <td>0</td>\n",
       "      <td>0</td>\n",
       "      <td>1.728139</td>\n",
       "      <td>0</td>\n",
       "      <td>1.676269</td>\n",
       "      <td>0.906247</td>\n",
       "      <td>0</td>\n",
       "      <td>1</td>\n",
       "      <td>Obesity_Type_III</td>\n",
       "    </tr>\n",
       "    <tr>\n",
       "      <th>2107</th>\n",
       "      <td>0</td>\n",
       "      <td>21.982942</td>\n",
       "      <td>1.748584</td>\n",
       "      <td>133.742943</td>\n",
       "      <td>1</td>\n",
       "      <td>1</td>\n",
       "      <td>3.0</td>\n",
       "      <td>3.0</td>\n",
       "      <td>0</td>\n",
       "      <td>0</td>\n",
       "      <td>2.005130</td>\n",
       "      <td>0</td>\n",
       "      <td>1.341390</td>\n",
       "      <td>0.599270</td>\n",
       "      <td>0</td>\n",
       "      <td>1</td>\n",
       "      <td>Obesity_Type_III</td>\n",
       "    </tr>\n",
       "    <tr>\n",
       "      <th>2108</th>\n",
       "      <td>0</td>\n",
       "      <td>22.524036</td>\n",
       "      <td>1.752206</td>\n",
       "      <td>133.689352</td>\n",
       "      <td>1</td>\n",
       "      <td>1</td>\n",
       "      <td>3.0</td>\n",
       "      <td>3.0</td>\n",
       "      <td>0</td>\n",
       "      <td>0</td>\n",
       "      <td>2.054193</td>\n",
       "      <td>0</td>\n",
       "      <td>1.414209</td>\n",
       "      <td>0.646288</td>\n",
       "      <td>0</td>\n",
       "      <td>1</td>\n",
       "      <td>Obesity_Type_III</td>\n",
       "    </tr>\n",
       "    <tr>\n",
       "      <th>2109</th>\n",
       "      <td>0</td>\n",
       "      <td>24.361936</td>\n",
       "      <td>1.739450</td>\n",
       "      <td>133.346641</td>\n",
       "      <td>1</td>\n",
       "      <td>1</td>\n",
       "      <td>3.0</td>\n",
       "      <td>3.0</td>\n",
       "      <td>0</td>\n",
       "      <td>0</td>\n",
       "      <td>2.852339</td>\n",
       "      <td>0</td>\n",
       "      <td>1.139107</td>\n",
       "      <td>0.586035</td>\n",
       "      <td>0</td>\n",
       "      <td>1</td>\n",
       "      <td>Obesity_Type_III</td>\n",
       "    </tr>\n",
       "    <tr>\n",
       "      <th>2110</th>\n",
       "      <td>0</td>\n",
       "      <td>23.664709</td>\n",
       "      <td>1.738836</td>\n",
       "      <td>133.472641</td>\n",
       "      <td>1</td>\n",
       "      <td>1</td>\n",
       "      <td>3.0</td>\n",
       "      <td>3.0</td>\n",
       "      <td>0</td>\n",
       "      <td>0</td>\n",
       "      <td>2.863513</td>\n",
       "      <td>0</td>\n",
       "      <td>1.026452</td>\n",
       "      <td>0.714137</td>\n",
       "      <td>0</td>\n",
       "      <td>1</td>\n",
       "      <td>Obesity_Type_III</td>\n",
       "    </tr>\n",
       "  </tbody>\n",
       "</table>\n",
       "<p>2111 rows × 17 columns</p>\n",
       "</div>"
      ],
      "text/plain": [
       "      Gender        Age    Height      Weight  family_history_with_overweight  \\\n",
       "0          0  21.000000  1.620000   64.000000                               1   \n",
       "1          0  21.000000  1.520000   56.000000                               1   \n",
       "2          1  23.000000  1.800000   77.000000                               1   \n",
       "3          1  27.000000  1.800000   87.000000                               0   \n",
       "4          1  22.000000  1.780000   89.800000                               0   \n",
       "...      ...        ...       ...         ...                             ...   \n",
       "2106       0  20.976842  1.710730  131.408528                               1   \n",
       "2107       0  21.982942  1.748584  133.742943                               1   \n",
       "2108       0  22.524036  1.752206  133.689352                               1   \n",
       "2109       0  24.361936  1.739450  133.346641                               1   \n",
       "2110       0  23.664709  1.738836  133.472641                               1   \n",
       "\n",
       "      FAVC  FCVC  NCP  CAEC  SMOKE      CH2O  SCC       FAF       TUE  CALC  \\\n",
       "0        0   2.0  3.0     0      0  2.000000    0  0.000000  1.000000     0   \n",
       "1        0   3.0  3.0     0      1  3.000000    1  3.000000  0.000000     0   \n",
       "2        0   2.0  3.0     0      0  2.000000    0  2.000000  1.000000     1   \n",
       "3        0   3.0  3.0     0      0  2.000000    0  2.000000  0.000000     1   \n",
       "4        0   2.0  1.0     0      0  2.000000    0  0.000000  0.000000     0   \n",
       "...    ...   ...  ...   ...    ...       ...  ...       ...       ...   ...   \n",
       "2106     1   3.0  3.0     0      0  1.728139    0  1.676269  0.906247     0   \n",
       "2107     1   3.0  3.0     0      0  2.005130    0  1.341390  0.599270     0   \n",
       "2108     1   3.0  3.0     0      0  2.054193    0  1.414209  0.646288     0   \n",
       "2109     1   3.0  3.0     0      0  2.852339    0  1.139107  0.586035     0   \n",
       "2110     1   3.0  3.0     0      0  2.863513    0  1.026452  0.714137     0   \n",
       "\n",
       "      MTRANS           NObeyesdad  \n",
       "0          1        Normal_Weight  \n",
       "1          1        Normal_Weight  \n",
       "2          1        Normal_Weight  \n",
       "3          0   Overweight_Level_I  \n",
       "4          1  Overweight_Level_II  \n",
       "...      ...                  ...  \n",
       "2106       1     Obesity_Type_III  \n",
       "2107       1     Obesity_Type_III  \n",
       "2108       1     Obesity_Type_III  \n",
       "2109       1     Obesity_Type_III  \n",
       "2110       1     Obesity_Type_III  \n",
       "\n",
       "[2111 rows x 17 columns]"
      ]
     },
     "execution_count": 2,
     "metadata": {},
     "output_type": "execute_result"
    }
   ],
   "source": [
    "# Setting everything to numbers\n",
    "varlist = ['Gender','family_history_with_overweight','FAVC', 'CAEC', 'SMOKE', 'SCC', 'CALC', 'MTRANS']\n",
    "def binary_map(x):\n",
    "    return x.map({'Male': 1, 'Public_Transportation': 1,'Automobile': 1,'Motorbike': 1, 'yes': 1, 'Obesity_Type_I': 1, 'Obesity_Type_II': 1, 'Obesity_Type_III': 1, 'Always': 1, 'Frequently': 1,'Female': 0, 'Walking': 0, 'Bike': 0, 'no': 0, 'Sometimes':0, \"Normal_Weight\" : 0, \"Overweight_Level_I\" : 0, \"Overweight_Level_II\" : 0, \"Insufficient_Weight\" : 0})\n",
    "obesity[varlist] = obesity[varlist].apply(binary_map)\n",
    "\n",
    "obesity"
   ]
  },
  {
   "cell_type": "code",
   "execution_count": 3,
   "id": "c316cb1e-5821-48f5-91da-91a6aa40d12a",
   "metadata": {},
   "outputs": [],
   "source": [
    "X = obesity.iloc[:,0:16].values\n",
    "Y = obesity.iloc[:,16].values"
   ]
  },
  {
   "cell_type": "code",
   "execution_count": 4,
   "id": "48ce9db2-4a32-4763-8272-f9fa4412adca",
   "metadata": {},
   "outputs": [],
   "source": [
    "from sklearn.model_selection import train_test_split \n",
    "X_train, X_test, Y_train, Y_test = train_test_split(X, Y,test_size = 0.2, random_state = 42)"
   ]
  },
  {
   "cell_type": "code",
   "execution_count": 5,
   "id": "0500be5d-221d-4e8b-8fcc-700cd71b99c4",
   "metadata": {},
   "outputs": [],
   "source": [
    "from sklearn.preprocessing import StandardScaler\n",
    "#Scaling the data using Standardization\n",
    "sc_X = StandardScaler()\n",
    "X_train = sc_X.fit_transform(X_train)\n",
    "X_test = sc_X.transform(X_test)"
   ]
  },
  {
   "cell_type": "code",
   "execution_count": 6,
   "id": "6dd8ab43-9458-4198-8d9d-2003a2626616",
   "metadata": {},
   "outputs": [
    {
     "name": "stderr",
     "output_type": "stream",
     "text": [
      "C:\\Users\\rando\\anaconda3\\lib\\site-packages\\sklearn\\linear_model\\_logistic.py:763: ConvergenceWarning: lbfgs failed to converge (status=1):\n",
      "STOP: TOTAL NO. of ITERATIONS REACHED LIMIT.\n",
      "\n",
      "Increase the number of iterations (max_iter) or scale the data as shown in:\n",
      "    https://scikit-learn.org/stable/modules/preprocessing.html\n",
      "Please also refer to the documentation for alternative solver options:\n",
      "    https://scikit-learn.org/stable/modules/linear_model.html#logistic-regression\n",
      "  n_iter_i = _check_optimize_result(\n"
     ]
    },
    {
     "data": {
      "text/plain": [
       "LogisticRegression(random_state=0)"
      ]
     },
     "execution_count": 6,
     "metadata": {},
     "output_type": "execute_result"
    }
   ],
   "source": [
    "#Running Logistic Regression first\n",
    "from sklearn.linear_model import LogisticRegression \n",
    "\n",
    "classifier = LogisticRegression(random_state=0)\n",
    "classifier.fit(X_train, Y_train)"
   ]
  },
  {
   "cell_type": "code",
   "execution_count": 7,
   "id": "f3be282d-f242-4bcd-9241-bf9aee775ebd",
   "metadata": {},
   "outputs": [
    {
     "data": {
      "text/plain": [
       "array(['Insufficient_Weight', 'Obesity_Type_III', 'Insufficient_Weight',\n",
       "       'Insufficient_Weight', 'Normal_Weight', 'Insufficient_Weight',\n",
       "       'Obesity_Type_II', 'Overweight_Level_I', 'Obesity_Type_I',\n",
       "       'Insufficient_Weight'], dtype=object)"
      ]
     },
     "execution_count": 7,
     "metadata": {},
     "output_type": "execute_result"
    }
   ],
   "source": [
    "Y_pred = classifier.predict(X_test)\n",
    "Y_pred[0:10]"
   ]
  },
  {
   "cell_type": "code",
   "execution_count": 8,
   "id": "e3fce2cd-f1f7-445a-b253-2bb90c888274",
   "metadata": {},
   "outputs": [
    {
     "data": {
      "text/plain": [
       "array([[56,  0,  0,  0,  0,  0,  0],\n",
       "       [ 9, 42,  0,  0,  0,  8,  3],\n",
       "       [ 0,  0, 70,  5,  0,  0,  3],\n",
       "       [ 0,  0,  1, 57,  0,  0,  0],\n",
       "       [ 0,  0,  0,  0, 63,  0,  0],\n",
       "       [ 0,  4,  0,  0,  0, 42, 10],\n",
       "       [ 0,  0,  3,  0,  0,  5, 42]], dtype=int64)"
      ]
     },
     "execution_count": 8,
     "metadata": {},
     "output_type": "execute_result"
    }
   ],
   "source": [
    "from sklearn.metrics import confusion_matrix \n",
    "\n",
    "cnf_matrix = confusion_matrix(Y_test, Y_pred)\n",
    "cnf_matrix"
   ]
  },
  {
   "cell_type": "code",
   "execution_count": 9,
   "id": "92ecc8c5-ebe8-46d6-af22-8df8a10332de",
   "metadata": {},
   "outputs": [
    {
     "data": {
      "text/plain": [
       "'from sklearn import metrics\\n\\nallFeaturesAccuracy = metrics.accuracy_score(Y_test, Y_pred)\\nallFeaturesPrecision = metrics.precision_score(Y_test, Y_pred)\\nallFeaturesRecall = metrics.recall_score(Y_test, Y_pred)\\n\\n#Getting the metrics for Logistic Regression\\nprint(\"Accuracy for all features with Logistic Regression:\",metrics.accuracy_score(Y_test, Y_pred)) \\nprint(\"Precision for all features with Logistic Regression:\",metrics.precision_score(Y_test, Y_pred)) \\nprint(\"Recall for all features with Logistic Regression:\",metrics.recall_score(Y_test, Y_pred)) '"
      ]
     },
     "execution_count": 9,
     "metadata": {},
     "output_type": "execute_result"
    }
   ],
   "source": [
    "\"\"\"from sklearn import metrics\n",
    "\n",
    "allFeaturesAccuracy = metrics.accuracy_score(Y_test, Y_pred)\n",
    "allFeaturesPrecision = metrics.precision_score(Y_test, Y_pred)\n",
    "allFeaturesRecall = metrics.recall_score(Y_test, Y_pred)\n",
    "\n",
    "#Getting the metrics for Logistic Regression\n",
    "print(\"Accuracy for all features with Logistic Regression:\",metrics.accuracy_score(Y_test, Y_pred)) \n",
    "print(\"Precision for all features with Logistic Regression:\",metrics.precision_score(Y_test, Y_pred)) \n",
    "print(\"Recall for all features with Logistic Regression:\",metrics.recall_score(Y_test, Y_pred)) \"\"\""
   ]
  },
  {
   "cell_type": "code",
   "execution_count": 10,
   "id": "a1dc462d-bae6-4c65-b332-406c657f446e",
   "metadata": {},
   "outputs": [
    {
     "data": {
      "text/plain": [
       "GaussianNB()"
      ]
     },
     "execution_count": 10,
     "metadata": {},
     "output_type": "execute_result"
    }
   ],
   "source": [
    "#Running Gaussian Naive Bayes to see if there is a difference\n",
    "from sklearn.naive_bayes import GaussianNB \n",
    "classifier = GaussianNB() \n",
    "classifier.fit(X_train, Y_train)"
   ]
  },
  {
   "cell_type": "code",
   "execution_count": 11,
   "id": "32d7a9d3-2abc-4a48-9482-f93bbed4ab6f",
   "metadata": {},
   "outputs": [],
   "source": [
    "Y2_pred  =  classifier.predict(X_test) "
   ]
  },
  {
   "cell_type": "code",
   "execution_count": 12,
   "id": "45303551-bd4c-40c4-8b96-f1e14808c230",
   "metadata": {},
   "outputs": [
    {
     "data": {
      "text/plain": [
       "'print(\"Accuracy for all featuers with Naive Bayes:\",metrics.accuracy_score(Y_test, Y2_pred)) \\nprint(\"Precision for all features with Naive Bayes:\",metrics.precision_score(Y_test, Y2_pred)) \\nprint(\"Recall for all features with Naive Bayes:\",metrics.recall_score(Y_test, Y2_pred)) '"
      ]
     },
     "execution_count": 12,
     "metadata": {},
     "output_type": "execute_result"
    }
   ],
   "source": [
    "\"\"\"print(\"Accuracy for all featuers with Naive Bayes:\",metrics.accuracy_score(Y_test, Y2_pred)) \n",
    "print(\"Precision for all features with Naive Bayes:\",metrics.precision_score(Y_test, Y2_pred)) \n",
    "print(\"Recall for all features with Naive Bayes:\",metrics.recall_score(Y_test, Y2_pred)) \"\"\""
   ]
  },
  {
   "cell_type": "code",
   "execution_count": 13,
   "id": "238c73e6-441d-422e-b57b-df1d2f5d2ddc",
   "metadata": {},
   "outputs": [
    {
     "data": {
      "text/plain": [
       "array([[53,  0,  2,  0,  0,  1,  0],\n",
       "       [25, 24,  3,  0,  1,  5,  4],\n",
       "       [ 0,  0, 40, 27,  0,  2,  9],\n",
       "       [ 0,  0,  3, 54,  0,  0,  1],\n",
       "       [ 0,  0,  0,  0, 63,  0,  0],\n",
       "       [ 6,  6, 26,  0,  0, 14,  4],\n",
       "       [ 0,  2, 24,  5,  0,  1, 18]], dtype=int64)"
      ]
     },
     "execution_count": 13,
     "metadata": {},
     "output_type": "execute_result"
    }
   ],
   "source": [
    "from sklearn.metrics import confusion_matrix,accuracy_score \n",
    "cm = confusion_matrix(Y_test, Y2_pred) \n",
    "cm"
   ]
  },
  {
   "cell_type": "code",
   "execution_count": 14,
   "id": "1c4b5227-a4b8-4e02-9899-2fa5ebc5590e",
   "metadata": {},
   "outputs": [
    {
     "data": {
      "text/plain": [
       "Text(0.5, 257.44, 'Predicted label')"
      ]
     },
     "execution_count": 14,
     "metadata": {},
     "output_type": "execute_result"
    },
    {
     "data": {
      "image/png": "[encoded data removed]",
      "text/plain": [
       "<Figure size 432x288 with 2 Axes>"
      ]
     },
     "metadata": {
      "needs_background": "light"
     },
     "output_type": "display_data"
    }
   ],
   "source": [
    "import seaborn as sns \n",
    "class_names=[0,1] # name  of classes \n",
    "fig, ax = plt.subplots() \n",
    "tick_marks = np.arange(len(class_names)) \n",
    "plt.xticks(tick_marks, class_names) \n",
    "plt.yticks(tick_marks, class_names) \n",
    "# create heatmap \n",
    "sns.heatmap(pd.DataFrame(cnf_matrix), annot=True, cmap=\"YlGnBu\" ,fmt='g') \n",
    "ax.xaxis.set_label_position(\"top\") \n",
    "plt.tight_layout() \n",
    "plt.title('Logistic Regression', y=1.1) \n",
    "plt.ylabel('Actual label') \n",
    "plt.xlabel('Predicted label') "
   ]
  },
  {
   "cell_type": "code",
   "execution_count": 15,
   "id": "eb985887-0532-4b0a-85b0-44aa221fd053",
   "metadata": {},
   "outputs": [
    {
     "data": {
      "text/plain": [
       "Text(0.5, 257.44, 'Predicted label')"
      ]
     },
     "execution_count": 15,
     "metadata": {},
     "output_type": "execute_result"
    },
    {
     "data": {
      "image/png": "[encoded data removed]",
      "text/plain": [
       "<Figure size 432x288 with 2 Axes>"
      ]
     },
     "metadata": {
      "needs_background": "light"
     },
     "output_type": "display_data"
    }
   ],
   "source": [
    "class_names=[0,1] # name  of classes \n",
    "fig, ax = plt.subplots() \n",
    "tick_marks = np.arange(len(class_names)) \n",
    "plt.xticks(tick_marks, class_names) \n",
    "plt.yticks(tick_marks, class_names) \n",
    "# create heatmap \n",
    "sns.heatmap(pd.DataFrame(cm), annot=True, cmap=\"YlGnBu\" ,fmt='g') \n",
    "ax.xaxis.set_label_position(\"top\") \n",
    "plt.tight_layout() \n",
    "plt.title('Naive-Bayes', y=1.1) \n",
    "plt.ylabel('Actual label') \n",
    "plt.xlabel('Predicted label') "
   ]
  },
  {
   "cell_type": "code",
   "execution_count": 16,
   "id": "134084dd-3a10-424e-8358-27de169aa749",
   "metadata": {},
   "outputs": [
    {
     "data": {
      "text/html": [
       "<div>\n",
       "<style scoped>\n",
       "    .dataframe tbody tr th:only-of-type {\n",
       "        vertical-align: middle;\n",
       "    }\n",
       "\n",
       "    .dataframe tbody tr th {\n",
       "        vertical-align: top;\n",
       "    }\n",
       "\n",
       "    .dataframe thead th {\n",
       "        text-align: right;\n",
       "    }\n",
       "</style>\n",
       "<table border=\"1\" class=\"dataframe\">\n",
       "  <thead>\n",
       "    <tr style=\"text-align: right;\">\n",
       "      <th></th>\n",
       "      <th>principal component 1</th>\n",
       "      <th>principal component 2</th>\n",
       "      <th>principal component 3</th>\n",
       "      <th>principal component 4</th>\n",
       "      <th>principal component 5</th>\n",
       "      <th>principal component 6</th>\n",
       "      <th>principal component 7</th>\n",
       "      <th>principal component 8</th>\n",
       "    </tr>\n",
       "  </thead>\n",
       "  <tbody>\n",
       "    <tr>\n",
       "      <th>0</th>\n",
       "      <td>-22.727956</td>\n",
       "      <td>-2.123318</td>\n",
       "      <td>-0.818382</td>\n",
       "      <td>-0.774638</td>\n",
       "      <td>0.249948</td>\n",
       "      <td>-0.366775</td>\n",
       "      <td>0.108828</td>\n",
       "      <td>0.413843</td>\n",
       "    </tr>\n",
       "    <tr>\n",
       "      <th>1</th>\n",
       "      <td>-30.712501</td>\n",
       "      <td>-1.748524</td>\n",
       "      <td>1.990018</td>\n",
       "      <td>0.529741</td>\n",
       "      <td>-1.318923</td>\n",
       "      <td>-0.698617</td>\n",
       "      <td>0.216128</td>\n",
       "      <td>0.292447</td>\n",
       "    </tr>\n",
       "    <tr>\n",
       "      <th>2</th>\n",
       "      <td>-9.643065</td>\n",
       "      <td>-0.837784</td>\n",
       "      <td>1.117391</td>\n",
       "      <td>0.134260</td>\n",
       "      <td>0.538992</td>\n",
       "      <td>0.142665</td>\n",
       "      <td>-0.164114</td>\n",
       "      <td>-0.080814</td>\n",
       "    </tr>\n",
       "    <tr>\n",
       "      <th>3</th>\n",
       "      <td>0.548466</td>\n",
       "      <td>2.652835</td>\n",
       "      <td>1.182533</td>\n",
       "      <td>0.193029</td>\n",
       "      <td>-0.764428</td>\n",
       "      <td>0.224962</td>\n",
       "      <td>-0.274197</td>\n",
       "      <td>-0.687480</td>\n",
       "    </tr>\n",
       "    <tr>\n",
       "      <th>4</th>\n",
       "      <td>3.078465</td>\n",
       "      <td>-2.425543</td>\n",
       "      <td>-1.552173</td>\n",
       "      <td>1.214025</td>\n",
       "      <td>-0.108053</td>\n",
       "      <td>-0.135038</td>\n",
       "      <td>-1.021724</td>\n",
       "      <td>-0.345015</td>\n",
       "    </tr>\n",
       "    <tr>\n",
       "      <th>...</th>\n",
       "      <td>...</td>\n",
       "      <td>...</td>\n",
       "      <td>...</td>\n",
       "      <td>...</td>\n",
       "      <td>...</td>\n",
       "      <td>...</td>\n",
       "      <td>...</td>\n",
       "      <td>...</td>\n",
       "    </tr>\n",
       "    <tr>\n",
       "      <th>2106</th>\n",
       "      <td>44.586750</td>\n",
       "      <td>-5.678529</td>\n",
       "      <td>0.397173</td>\n",
       "      <td>0.022178</td>\n",
       "      <td>-0.406406</td>\n",
       "      <td>0.687830</td>\n",
       "      <td>0.640637</td>\n",
       "      <td>0.299929</td>\n",
       "    </tr>\n",
       "    <tr>\n",
       "      <th>2107</th>\n",
       "      <td>46.972535</td>\n",
       "      <td>-4.783239</td>\n",
       "      <td>0.172139</td>\n",
       "      <td>-0.063862</td>\n",
       "      <td>-0.582471</td>\n",
       "      <td>0.347798</td>\n",
       "      <td>0.428681</td>\n",
       "      <td>0.299297</td>\n",
       "    </tr>\n",
       "    <tr>\n",
       "      <th>2108</th>\n",
       "      <td>46.947146</td>\n",
       "      <td>-4.243653</td>\n",
       "      <td>0.258972</td>\n",
       "      <td>-0.030558</td>\n",
       "      <td>-0.547811</td>\n",
       "      <td>0.315979</td>\n",
       "      <td>0.480688</td>\n",
       "      <td>0.306281</td>\n",
       "    </tr>\n",
       "    <tr>\n",
       "      <th>2109</th>\n",
       "      <td>46.704647</td>\n",
       "      <td>-2.391934</td>\n",
       "      <td>0.219007</td>\n",
       "      <td>-0.045703</td>\n",
       "      <td>-0.555504</td>\n",
       "      <td>-0.529988</td>\n",
       "      <td>0.483095</td>\n",
       "      <td>0.311199</td>\n",
       "    </tr>\n",
       "    <tr>\n",
       "      <th>2110</th>\n",
       "      <td>46.794282</td>\n",
       "      <td>-3.095863</td>\n",
       "      <td>0.110815</td>\n",
       "      <td>-0.092421</td>\n",
       "      <td>-0.468403</td>\n",
       "      <td>-0.563025</td>\n",
       "      <td>0.548913</td>\n",
       "      <td>0.286993</td>\n",
       "    </tr>\n",
       "  </tbody>\n",
       "</table>\n",
       "<p>2111 rows × 8 columns</p>\n",
       "</div>"
      ],
      "text/plain": [
       "      principal component 1  principal component 2  principal component 3  \\\n",
       "0                -22.727956              -2.123318              -0.818382   \n",
       "1                -30.712501              -1.748524               1.990018   \n",
       "2                 -9.643065              -0.837784               1.117391   \n",
       "3                  0.548466               2.652835               1.182533   \n",
       "4                  3.078465              -2.425543              -1.552173   \n",
       "...                     ...                    ...                    ...   \n",
       "2106              44.586750              -5.678529               0.397173   \n",
       "2107              46.972535              -4.783239               0.172139   \n",
       "2108              46.947146              -4.243653               0.258972   \n",
       "2109              46.704647              -2.391934               0.219007   \n",
       "2110              46.794282              -3.095863               0.110815   \n",
       "\n",
       "      principal component 4  principal component 5  principal component 6  \\\n",
       "0                 -0.774638               0.249948              -0.366775   \n",
       "1                  0.529741              -1.318923              -0.698617   \n",
       "2                  0.134260               0.538992               0.142665   \n",
       "3                  0.193029              -0.764428               0.224962   \n",
       "4                  1.214025              -0.108053              -0.135038   \n",
       "...                     ...                    ...                    ...   \n",
       "2106               0.022178              -0.406406               0.687830   \n",
       "2107              -0.063862              -0.582471               0.347798   \n",
       "2108              -0.030558              -0.547811               0.315979   \n",
       "2109              -0.045703              -0.555504              -0.529988   \n",
       "2110              -0.092421              -0.468403              -0.563025   \n",
       "\n",
       "      principal component 7  principal component 8  \n",
       "0                  0.108828               0.413843  \n",
       "1                  0.216128               0.292447  \n",
       "2                 -0.164114              -0.080814  \n",
       "3                 -0.274197              -0.687480  \n",
       "4                 -1.021724              -0.345015  \n",
       "...                     ...                    ...  \n",
       "2106               0.640637               0.299929  \n",
       "2107               0.428681               0.299297  \n",
       "2108               0.480688               0.306281  \n",
       "2109               0.483095               0.311199  \n",
       "2110               0.548913               0.286993  \n",
       "\n",
       "[2111 rows x 8 columns]"
      ]
     },
     "execution_count": 16,
     "metadata": {},
     "output_type": "execute_result"
    }
   ],
   "source": [
    "#Running PCA to use with Naive Bayes to see if the results are better\n",
    "from sklearn.decomposition import PCA \n",
    "pca = PCA(n_components=8) #Change this to different values to see if evaluation metrics change\n",
    "principalComponents = pca.fit_transform(X) \n",
    "principalDf = pd.DataFrame(data = principalComponents \n",
    "             , columns = ['principal component 1', 'principal component 2', 'principal component 3', 'principal component 4', 'principal component 5', 'principal component 6', 'principal component 7', 'principal component 8']) #Change according to n_components\n",
    "principalDf"
   ]
  },
  {
   "cell_type": "code",
   "execution_count": 17,
   "id": "cd67d52d-457b-4943-9e85-7d06e82be69e",
   "metadata": {},
   "outputs": [],
   "source": [
    "finalDf = pd.concat([principalDf, obesity[['NObeyesdad']]], axis = 1)"
   ]
  },
  {
   "cell_type": "code",
   "execution_count": 18,
   "id": "24e230f8-e5f6-4b6f-8d67-f388abe993c2",
   "metadata": {},
   "outputs": [
    {
     "data": {
      "text/html": [
       "<div>\n",
       "<style scoped>\n",
       "    .dataframe tbody tr th:only-of-type {\n",
       "        vertical-align: middle;\n",
       "    }\n",
       "\n",
       "    .dataframe tbody tr th {\n",
       "        vertical-align: top;\n",
       "    }\n",
       "\n",
       "    .dataframe thead th {\n",
       "        text-align: right;\n",
       "    }\n",
       "</style>\n",
       "<table border=\"1\" class=\"dataframe\">\n",
       "  <thead>\n",
       "    <tr style=\"text-align: right;\">\n",
       "      <th></th>\n",
       "      <th>principal component 1</th>\n",
       "      <th>principal component 2</th>\n",
       "      <th>principal component 3</th>\n",
       "      <th>principal component 4</th>\n",
       "      <th>principal component 5</th>\n",
       "      <th>principal component 6</th>\n",
       "      <th>principal component 7</th>\n",
       "      <th>principal component 8</th>\n",
       "    </tr>\n",
       "  </thead>\n",
       "  <tbody>\n",
       "    <tr>\n",
       "      <th>162</th>\n",
       "      <td>-26.721248</td>\n",
       "      <td>-1.928040</td>\n",
       "      <td>0.885389</td>\n",
       "      <td>-0.039095</td>\n",
       "      <td>-1.159175</td>\n",
       "      <td>0.119798</td>\n",
       "      <td>0.130064</td>\n",
       "      <td>0.045905</td>\n",
       "    </tr>\n",
       "    <tr>\n",
       "      <th>2001</th>\n",
       "      <td>46.797104</td>\n",
       "      <td>-5.848369</td>\n",
       "      <td>0.449933</td>\n",
       "      <td>0.090155</td>\n",
       "      <td>-0.499095</td>\n",
       "      <td>-0.468006</td>\n",
       "      <td>0.564885</td>\n",
       "      <td>0.344062</td>\n",
       "    </tr>\n",
       "    <tr>\n",
       "      <th>1435</th>\n",
       "      <td>-4.063241</td>\n",
       "      <td>-1.205131</td>\n",
       "      <td>-1.262824</td>\n",
       "      <td>0.897746</td>\n",
       "      <td>1.296476</td>\n",
       "      <td>-0.900617</td>\n",
       "      <td>0.276435</td>\n",
       "      <td>0.935826</td>\n",
       "    </tr>\n",
       "    <tr>\n",
       "      <th>649</th>\n",
       "      <td>-42.429987</td>\n",
       "      <td>-0.257505</td>\n",
       "      <td>-0.249004</td>\n",
       "      <td>0.825706</td>\n",
       "      <td>-1.271755</td>\n",
       "      <td>-0.646567</td>\n",
       "      <td>0.115729</td>\n",
       "      <td>-0.250582</td>\n",
       "    </tr>\n",
       "    <tr>\n",
       "      <th>1280</th>\n",
       "      <td>19.525931</td>\n",
       "      <td>0.641612</td>\n",
       "      <td>1.071093</td>\n",
       "      <td>0.210561</td>\n",
       "      <td>-0.136641</td>\n",
       "      <td>-0.566345</td>\n",
       "      <td>0.177082</td>\n",
       "      <td>-0.470268</td>\n",
       "    </tr>\n",
       "    <tr>\n",
       "      <th>...</th>\n",
       "      <td>...</td>\n",
       "      <td>...</td>\n",
       "      <td>...</td>\n",
       "      <td>...</td>\n",
       "      <td>...</td>\n",
       "      <td>...</td>\n",
       "      <td>...</td>\n",
       "      <td>...</td>\n",
       "    </tr>\n",
       "    <tr>\n",
       "      <th>1638</th>\n",
       "      <td>33.887952</td>\n",
       "      <td>6.194503</td>\n",
       "      <td>0.388514</td>\n",
       "      <td>-0.148916</td>\n",
       "      <td>0.508882</td>\n",
       "      <td>-0.380726</td>\n",
       "      <td>0.690284</td>\n",
       "      <td>-0.589604</td>\n",
       "    </tr>\n",
       "    <tr>\n",
       "      <th>1095</th>\n",
       "      <td>-4.981237</td>\n",
       "      <td>-1.045174</td>\n",
       "      <td>-0.564771</td>\n",
       "      <td>0.764918</td>\n",
       "      <td>0.732858</td>\n",
       "      <td>0.541370</td>\n",
       "      <td>-0.227923</td>\n",
       "      <td>-0.206317</td>\n",
       "    </tr>\n",
       "    <tr>\n",
       "      <th>1130</th>\n",
       "      <td>-6.646151</td>\n",
       "      <td>-0.999953</td>\n",
       "      <td>-0.691284</td>\n",
       "      <td>-0.706013</td>\n",
       "      <td>1.063638</td>\n",
       "      <td>-0.223049</td>\n",
       "      <td>0.860283</td>\n",
       "      <td>0.442427</td>\n",
       "    </tr>\n",
       "    <tr>\n",
       "      <th>1294</th>\n",
       "      <td>-2.152756</td>\n",
       "      <td>-1.197948</td>\n",
       "      <td>-0.142220</td>\n",
       "      <td>-0.340981</td>\n",
       "      <td>0.022337</td>\n",
       "      <td>-0.054333</td>\n",
       "      <td>-0.018153</td>\n",
       "      <td>0.633305</td>\n",
       "    </tr>\n",
       "    <tr>\n",
       "      <th>860</th>\n",
       "      <td>-1.797793</td>\n",
       "      <td>-4.257086</td>\n",
       "      <td>1.545661</td>\n",
       "      <td>0.421180</td>\n",
       "      <td>-0.335676</td>\n",
       "      <td>-0.663527</td>\n",
       "      <td>-0.008936</td>\n",
       "      <td>-0.408568</td>\n",
       "    </tr>\n",
       "  </tbody>\n",
       "</table>\n",
       "<p>1688 rows × 8 columns</p>\n",
       "</div>"
      ],
      "text/plain": [
       "      principal component 1  principal component 2  principal component 3  \\\n",
       "162              -26.721248              -1.928040               0.885389   \n",
       "2001              46.797104              -5.848369               0.449933   \n",
       "1435              -4.063241              -1.205131              -1.262824   \n",
       "649              -42.429987              -0.257505              -0.249004   \n",
       "1280              19.525931               0.641612               1.071093   \n",
       "...                     ...                    ...                    ...   \n",
       "1638              33.887952               6.194503               0.388514   \n",
       "1095              -4.981237              -1.045174              -0.564771   \n",
       "1130              -6.646151              -0.999953              -0.691284   \n",
       "1294              -2.152756              -1.197948              -0.142220   \n",
       "860               -1.797793              -4.257086               1.545661   \n",
       "\n",
       "      principal component 4  principal component 5  principal component 6  \\\n",
       "162               -0.039095              -1.159175               0.119798   \n",
       "2001               0.090155              -0.499095              -0.468006   \n",
       "1435               0.897746               1.296476              -0.900617   \n",
       "649                0.825706              -1.271755              -0.646567   \n",
       "1280               0.210561              -0.136641              -0.566345   \n",
       "...                     ...                    ...                    ...   \n",
       "1638              -0.148916               0.508882              -0.380726   \n",
       "1095               0.764918               0.732858               0.541370   \n",
       "1130              -0.706013               1.063638              -0.223049   \n",
       "1294              -0.340981               0.022337              -0.054333   \n",
       "860                0.421180              -0.335676              -0.663527   \n",
       "\n",
       "      principal component 7  principal component 8  \n",
       "162                0.130064               0.045905  \n",
       "2001               0.564885               0.344062  \n",
       "1435               0.276435               0.935826  \n",
       "649                0.115729              -0.250582  \n",
       "1280               0.177082              -0.470268  \n",
       "...                     ...                    ...  \n",
       "1638               0.690284              -0.589604  \n",
       "1095              -0.227923              -0.206317  \n",
       "1130               0.860283               0.442427  \n",
       "1294              -0.018153               0.633305  \n",
       "860               -0.008936              -0.408568  \n",
       "\n",
       "[1688 rows x 8 columns]"
      ]
     },
     "execution_count": 18,
     "metadata": {},
     "output_type": "execute_result"
    }
   ],
   "source": [
    "X2_data = finalDf.iloc[:,0:8] #Change these two to match n_components\n",
    "Y2_data = finalDf.iloc[:,8]\n",
    "\n",
    "X2_train, X2_test, Y2_train, Y2_test = train_test_split(X2_data, Y2_data,test_size = 0.2, random_state = 42)\n",
    "X2_train"
   ]
  },
  {
   "cell_type": "code",
   "execution_count": 19,
   "id": "beb291b4-66f4-4172-9a00-205f0fc96639",
   "metadata": {},
   "outputs": [
    {
     "data": {
      "text/plain": [
       "GaussianNB()"
      ]
     },
     "execution_count": 19,
     "metadata": {},
     "output_type": "execute_result"
    }
   ],
   "source": [
    "classifier = GaussianNB() \n",
    "classifier.fit(X2_train, Y2_train)"
   ]
  },
  {
   "cell_type": "code",
   "execution_count": 20,
   "id": "28bd1462-c400-4290-ac54-d118d0e616db",
   "metadata": {},
   "outputs": [
    {
     "data": {
      "text/plain": [
       "array(['Insufficient_Weight', 'Obesity_Type_III', 'Normal_Weight',\n",
       "       'Insufficient_Weight', 'Overweight_Level_II',\n",
       "       'Insufficient_Weight', 'Obesity_Type_II', 'Overweight_Level_I',\n",
       "       'Overweight_Level_I', 'Insufficient_Weight'], dtype='<U19')"
      ]
     },
     "execution_count": 20,
     "metadata": {},
     "output_type": "execute_result"
    }
   ],
   "source": [
    "Y2_pred_PCA = classifier.predict(X2_test)\n",
    "Y2_pred_PCA[0:10]"
   ]
  },
  {
   "cell_type": "code",
   "execution_count": 21,
   "id": "80514d66-61e5-46c2-8dbf-62c0a4d581fe",
   "metadata": {},
   "outputs": [],
   "source": [
    "\"\"\"#Evaluation metrics of Gaussian Naive Bayes with PCA added\n",
    "print(\"Accuracy with all features using Naive Bayes with PCA =\",metrics.accuracy_score(Y2_test,Y2_pred))\n",
    "print(\"Precision with all features using Naive Bayes with PCA =\",metrics.precision_score(Y2_test,Y2_pred))\n",
    "print(\"Recall with all features using Naive Bayes with PCA =\",metrics.recall_score(Y2_test,Y2_pred))\"\"\"\n",
    "cm_PCA = confusion_matrix(Y_test, Y2_pred_PCA)"
   ]
  },
  {
   "cell_type": "code",
   "execution_count": 22,
   "id": "b2369e0e-6a3b-45d0-b9fe-a8cbc30fd6fb",
   "metadata": {},
   "outputs": [
    {
     "data": {
      "text/plain": [
       "Text(0.5, 257.44, 'Predicted label')"
      ]
     },
     "execution_count": 22,
     "metadata": {},
     "output_type": "execute_result"
    },
    {
     "data": {
      "image/png": "[encoded data removed]",
      "text/plain": [
       "<Figure size 432x288 with 2 Axes>"
      ]
     },
     "metadata": {
      "needs_background": "light"
     },
     "output_type": "display_data"
    }
   ],
   "source": [
    "import seaborn as sns \n",
    "class_names=[0,1] # name  of classes \n",
    "fig, ax = plt.subplots() \n",
    "tick_marks = np.arange(len(class_names)) \n",
    "plt.xticks(tick_marks, class_names) \n",
    "plt.yticks(tick_marks, class_names) \n",
    "# create heatmap \n",
    "sns.heatmap(pd.DataFrame(cm_PCA), annot=True, cmap=\"YlGnBu\" ,fmt='g') \n",
    "ax.xaxis.set_label_position(\"top\") \n",
    "plt.tight_layout() \n",
    "plt.title('Naive Bayes with PCA', y=1.1) \n",
    "plt.ylabel('Actual label') \n",
    "plt.xlabel('Predicted label') "
   ]
  },
  {
   "cell_type": "code",
   "execution_count": 23,
   "id": "ec66f1e5-dde9-457c-9904-f407ace1f754",
   "metadata": {},
   "outputs": [],
   "source": [
    "#Now to use only part of the features, namely just the characteristics of the person and the lifestyle choices seperately"
   ]
  },
  {
   "cell_type": "code",
   "execution_count": null,
   "id": "caeee728-184d-45f7-ac63-dd3491224549",
   "metadata": {},
   "outputs": [],
   "source": []
  },
  {
   "cell_type": "code",
   "execution_count": 24,
   "id": "49784664-6d75-4091-9cb3-c8f803ea8030",
   "metadata": {},
   "outputs": [],
   "source": [
    "X_char = obesity.iloc[:,0:5].values"
   ]
  },
  {
   "cell_type": "code",
   "execution_count": 25,
   "id": "3f131d05-8dc4-4ec3-8857-5913754062ac",
   "metadata": {},
   "outputs": [],
   "source": [
    "from sklearn.model_selection import train_test_split \n",
    "Xchar_train, Xchar_test, Ychar_train, Ychar_test = train_test_split(X_char, Y,test_size = 0.2, random_state = 42)"
   ]
  },
  {
   "cell_type": "code",
   "execution_count": 26,
   "id": "bfca6bca-cd78-4884-bf29-72645c46ed77",
   "metadata": {},
   "outputs": [],
   "source": [
    "from sklearn.preprocessing import StandardScaler\n",
    "#Scaling the data using Standardization\n",
    "sc_Xchar = StandardScaler()\n",
    "Xchar_train = sc_Xchar.fit_transform(Xchar_train)\n",
    "Xchar_test = sc_Xchar.transform(Xchar_test)"
   ]
  },
  {
   "cell_type": "code",
   "execution_count": 27,
   "id": "11d7f73c-2b24-4780-8c62-83f74ec4710c",
   "metadata": {},
   "outputs": [
    {
     "data": {
      "text/plain": [
       "LogisticRegression(random_state=0)"
      ]
     },
     "execution_count": 27,
     "metadata": {},
     "output_type": "execute_result"
    }
   ],
   "source": [
    "from sklearn.linear_model import LogisticRegression \n",
    "\n",
    "classifier = LogisticRegression(random_state=0)\n",
    "classifier.fit(Xchar_train, Ychar_train)"
   ]
  },
  {
   "cell_type": "code",
   "execution_count": 28,
   "id": "cffce809-db41-4274-82c3-e7602f5fca64",
   "metadata": {},
   "outputs": [
    {
     "data": {
      "text/plain": [
       "array(['Insufficient_Weight', 'Obesity_Type_III', 'Insufficient_Weight',\n",
       "       'Insufficient_Weight', 'Normal_Weight', 'Insufficient_Weight',\n",
       "       'Obesity_Type_II', 'Overweight_Level_I', 'Obesity_Type_I',\n",
       "       'Insufficient_Weight'], dtype=object)"
      ]
     },
     "execution_count": 28,
     "metadata": {},
     "output_type": "execute_result"
    }
   ],
   "source": [
    "Ychar_pred = classifier.predict(Xchar_test)\n",
    "Ychar_pred[0:10]"
   ]
  },
  {
   "cell_type": "code",
   "execution_count": 29,
   "id": "55196417-77dc-497b-84d5-f3ec09b435dc",
   "metadata": {},
   "outputs": [
    {
     "data": {
      "text/plain": [
       "array([[56,  0,  0,  0,  0,  0,  0],\n",
       "       [11, 43,  0,  0,  0,  6,  2],\n",
       "       [ 0,  0, 71,  6,  0,  0,  1],\n",
       "       [ 0,  0,  0, 58,  0,  0,  0],\n",
       "       [ 0,  0,  0,  0, 63,  0,  0],\n",
       "       [ 0,  2,  0,  0,  0, 45,  9],\n",
       "       [ 0,  0,  4,  0,  0,  8, 38]], dtype=int64)"
      ]
     },
     "execution_count": 29,
     "metadata": {},
     "output_type": "execute_result"
    }
   ],
   "source": [
    "from sklearn.metrics import confusion_matrix \n",
    "\n",
    "cnf_char_matrix = confusion_matrix(Ychar_test, Ychar_pred)\n",
    "cnf_char_matrix"
   ]
  },
  {
   "cell_type": "code",
   "execution_count": 30,
   "id": "3ff70c92-1f59-48a3-861f-0f3357b27c4a",
   "metadata": {},
   "outputs": [
    {
     "data": {
      "text/plain": [
       "'charAccuracy = metrics.accuracy_score(Ychar_test, Ychar_pred)\\ncharPrecision = metrics.precision_score(Ychar_test, Ychar_pred)\\ncharRecall = metrics.recall_score(Ychar_test, Ychar_pred)\\n\\n#Getting the metrics for Logistic Regression\\nprint(\"Accuracy for only characteristics with Logistic Regression:\",metrics.accuracy_score(Ychar_test, Ychar_pred)) \\nprint(\"Precision for only characteristics with Logistic Regression:\",metrics.precision_score(Ychar_test, Ychar_pred)) \\nprint(\"Recall for only characteristics with Logistic Regression:\",metrics.recall_score(Ychar_test, Ychar_pred)) '"
      ]
     },
     "execution_count": 30,
     "metadata": {},
     "output_type": "execute_result"
    }
   ],
   "source": [
    "from sklearn import metrics\n",
    "\n",
    "\"\"\"charAccuracy = metrics.accuracy_score(Ychar_test, Ychar_pred)\n",
    "charPrecision = metrics.precision_score(Ychar_test, Ychar_pred)\n",
    "charRecall = metrics.recall_score(Ychar_test, Ychar_pred)\n",
    "\n",
    "#Getting the metrics for Logistic Regression\n",
    "print(\"Accuracy for only characteristics with Logistic Regression:\",metrics.accuracy_score(Ychar_test, Ychar_pred)) \n",
    "print(\"Precision for only characteristics with Logistic Regression:\",metrics.precision_score(Ychar_test, Ychar_pred)) \n",
    "print(\"Recall for only characteristics with Logistic Regression:\",metrics.recall_score(Ychar_test, Ychar_pred)) \"\"\""
   ]
  },
  {
   "cell_type": "code",
   "execution_count": 31,
   "id": "ab2dfe6e-132e-4c26-b60c-37e6eae80dda",
   "metadata": {},
   "outputs": [
    {
     "data": {
      "text/plain": [
       "Text(0.5, 257.44, 'Predicted label')"
      ]
     },
     "execution_count": 31,
     "metadata": {},
     "output_type": "execute_result"
    },
    {
     "data": {
      "image/png": "[encoded data removed]",
      "text/plain": [
       "<Figure size 432x288 with 2 Axes>"
      ]
     },
     "metadata": {
      "needs_background": "light"
     },
     "output_type": "display_data"
    }
   ],
   "source": [
    "class_names=[0,1] # name  of classes \n",
    "fig, ax = plt.subplots() \n",
    "tick_marks = np.arange(len(class_names)) \n",
    "plt.xticks(tick_marks, class_names) \n",
    "plt.yticks(tick_marks, class_names) \n",
    "# create heatmap \n",
    "sns.heatmap(pd.DataFrame(cnf_char_matrix), annot=True, cmap=\"YlGnBu\" ,fmt='g') \n",
    "ax.xaxis.set_label_position(\"top\") \n",
    "plt.tight_layout() \n",
    "plt.title('Logistic Regression with just Characteristics', y=1.1) \n",
    "plt.ylabel('Actual label') \n",
    "plt.xlabel('Predicted label') "
   ]
  },
  {
   "cell_type": "code",
   "execution_count": 32,
   "id": "9261df5e-0d9d-4b7a-9c0a-addd82df3794",
   "metadata": {},
   "outputs": [
    {
     "data": {
      "text/plain": [
       "GaussianNB()"
      ]
     },
     "execution_count": 32,
     "metadata": {},
     "output_type": "execute_result"
    }
   ],
   "source": [
    "classifier = GaussianNB() \n",
    "classifier.fit(Xchar_train, Ychar_train)"
   ]
  },
  {
   "cell_type": "code",
   "execution_count": 33,
   "id": "3e8db7a8-8870-4d59-a35d-5b799d175f59",
   "metadata": {},
   "outputs": [
    {
     "data": {
      "text/plain": [
       "array([[40,  6,  0,  0, 10,  0,  0],\n",
       "       [15, 15,  0,  0, 13, 10,  9],\n",
       "       [ 0,  0, 20, 34, 21,  1,  2],\n",
       "       [ 0,  0,  1, 57,  0,  0,  0],\n",
       "       [ 0,  0,  0,  0, 63,  0,  0],\n",
       "       [ 3, 11,  7,  0, 18,  6, 11],\n",
       "       [ 0,  0,  8,  7, 13,  1, 21]], dtype=int64)"
      ]
     },
     "execution_count": 33,
     "metadata": {},
     "output_type": "execute_result"
    }
   ],
   "source": [
    "Y2char_pred  =  classifier.predict(Xchar_test) \n",
    "cnf_char_NB = confusion_matrix(Ychar_test, Y2char_pred)\n",
    "cnf_char_NB"
   ]
  },
  {
   "cell_type": "code",
   "execution_count": 34,
   "id": "74a5c5d4-756d-479c-8054-77628aaa4122",
   "metadata": {
    "tags": []
   },
   "outputs": [
    {
     "data": {
      "text/plain": [
       "'print(\"Accuracy for only characteristics with Naive Bayes:\",metrics.accuracy_score(Ychar_test, Y2char_pred)) \\nprint(\"Precision for only characteristics with Naive Bayes:\",metrics.precision_score(Ychar_test, Y2char_pred)) \\nprint(\"Recall for only characteristics with Naive Bayes:\",metrics.recall_score(Ychar_test, Y2char_pred)) '"
      ]
     },
     "execution_count": 34,
     "metadata": {},
     "output_type": "execute_result"
    }
   ],
   "source": [
    "\"\"\"print(\"Accuracy for only characteristics with Naive Bayes:\",metrics.accuracy_score(Ychar_test, Y2char_pred)) \n",
    "print(\"Precision for only characteristics with Naive Bayes:\",metrics.precision_score(Ychar_test, Y2char_pred)) \n",
    "print(\"Recall for only characteristics with Naive Bayes:\",metrics.recall_score(Ychar_test, Y2char_pred)) \"\"\""
   ]
  },
  {
   "cell_type": "code",
   "execution_count": 35,
   "id": "7f4de7d8-e248-470c-87a3-3673cb66f921",
   "metadata": {},
   "outputs": [
    {
     "data": {
      "text/plain": [
       "Text(0.5, 257.44, 'Predicted label')"
      ]
     },
     "execution_count": 35,
     "metadata": {},
     "output_type": "execute_result"
    },
    {
     "data": {
      "image/png": "[encoded data removed]",
      "text/plain": [
       "<Figure size 432x288 with 2 Axes>"
      ]
     },
     "metadata": {
      "needs_background": "light"
     },
     "output_type": "display_data"
    }
   ],
   "source": [
    "class_names=[0,1] # name  of classes \n",
    "fig, ax = plt.subplots() \n",
    "tick_marks = np.arange(len(class_names)) \n",
    "plt.xticks(tick_marks, class_names) \n",
    "plt.yticks(tick_marks, class_names) \n",
    "# create heatmap \n",
    "sns.heatmap(pd.DataFrame(cnf_char_NB), annot=True, cmap=\"YlGnBu\" ,fmt='g') \n",
    "ax.xaxis.set_label_position(\"top\") \n",
    "plt.tight_layout() \n",
    "plt.title('Naive Bayes just Characteristics', y=1.1) \n",
    "plt.ylabel('Actual label') \n",
    "plt.xlabel('Predicted label') "
   ]
  },
  {
   "cell_type": "code",
   "execution_count": 36,
   "id": "3c4aa551-c2de-4cae-8d16-20527bcb1c23",
   "metadata": {},
   "outputs": [
    {
     "data": {
      "text/html": [
       "<div>\n",
       "<style scoped>\n",
       "    .dataframe tbody tr th:only-of-type {\n",
       "        vertical-align: middle;\n",
       "    }\n",
       "\n",
       "    .dataframe tbody tr th {\n",
       "        vertical-align: top;\n",
       "    }\n",
       "\n",
       "    .dataframe thead th {\n",
       "        text-align: right;\n",
       "    }\n",
       "</style>\n",
       "<table border=\"1\" class=\"dataframe\">\n",
       "  <thead>\n",
       "    <tr style=\"text-align: right;\">\n",
       "      <th></th>\n",
       "      <th>principal component 1</th>\n",
       "      <th>principal component 2</th>\n",
       "      <th>principal component 3</th>\n",
       "    </tr>\n",
       "  </thead>\n",
       "  <tbody>\n",
       "    <tr>\n",
       "      <th>0</th>\n",
       "      <td>-22.727218</td>\n",
       "      <td>-2.133353</td>\n",
       "      <td>0.425025</td>\n",
       "    </tr>\n",
       "    <tr>\n",
       "      <th>1</th>\n",
       "      <td>-30.716323</td>\n",
       "      <td>-1.717344</td>\n",
       "      <td>0.408409</td>\n",
       "    </tr>\n",
       "    <tr>\n",
       "      <th>2</th>\n",
       "      <td>-9.637945</td>\n",
       "      <td>-0.811017</td>\n",
       "      <td>-0.541186</td>\n",
       "    </tr>\n",
       "    <tr>\n",
       "      <th>3</th>\n",
       "      <td>0.548614</td>\n",
       "      <td>2.657399</td>\n",
       "      <td>-0.472257</td>\n",
       "    </tr>\n",
       "    <tr>\n",
       "      <th>4</th>\n",
       "      <td>3.085061</td>\n",
       "      <td>-2.481228</td>\n",
       "      <td>-0.467074</td>\n",
       "    </tr>\n",
       "    <tr>\n",
       "      <th>...</th>\n",
       "      <td>...</td>\n",
       "      <td>...</td>\n",
       "      <td>...</td>\n",
       "    </tr>\n",
       "    <tr>\n",
       "      <th>2106</th>\n",
       "      <td>44.587075</td>\n",
       "      <td>-5.660358</td>\n",
       "      <td>0.644504</td>\n",
       "    </tr>\n",
       "    <tr>\n",
       "      <th>2107</th>\n",
       "      <td>46.970572</td>\n",
       "      <td>-4.777049</td>\n",
       "      <td>0.649733</td>\n",
       "    </tr>\n",
       "    <tr>\n",
       "      <th>2108</th>\n",
       "      <td>46.945160</td>\n",
       "      <td>-4.233920</td>\n",
       "      <td>0.649866</td>\n",
       "    </tr>\n",
       "    <tr>\n",
       "      <th>2109</th>\n",
       "      <td>46.698344</td>\n",
       "      <td>-2.380708</td>\n",
       "      <td>0.652420</td>\n",
       "    </tr>\n",
       "    <tr>\n",
       "      <th>2110</th>\n",
       "      <td>46.787961</td>\n",
       "      <td>-3.083525</td>\n",
       "      <td>0.652014</td>\n",
       "    </tr>\n",
       "  </tbody>\n",
       "</table>\n",
       "<p>2111 rows × 3 columns</p>\n",
       "</div>"
      ],
      "text/plain": [
       "      principal component 1  principal component 2  principal component 3\n",
       "0                -22.727218              -2.133353               0.425025\n",
       "1                -30.716323              -1.717344               0.408409\n",
       "2                 -9.637945              -0.811017              -0.541186\n",
       "3                  0.548614               2.657399              -0.472257\n",
       "4                  3.085061              -2.481228              -0.467074\n",
       "...                     ...                    ...                    ...\n",
       "2106              44.587075              -5.660358               0.644504\n",
       "2107              46.970572              -4.777049               0.649733\n",
       "2108              46.945160              -4.233920               0.649866\n",
       "2109              46.698344              -2.380708               0.652420\n",
       "2110              46.787961              -3.083525               0.652014\n",
       "\n",
       "[2111 rows x 3 columns]"
      ]
     },
     "execution_count": 36,
     "metadata": {},
     "output_type": "execute_result"
    }
   ],
   "source": [
    "pca = PCA(n_components=3) #Change this to different values to see if evaluation metrics change\n",
    "principalComponents = pca.fit_transform(X_char) \n",
    "principalDf_char = pd.DataFrame(data = principalComponents \n",
    "             , columns = ['principal component 1', 'principal component 2', 'principal component 3']) #Change according to n_components\n",
    "principalDf_char"
   ]
  },
  {
   "cell_type": "code",
   "execution_count": 37,
   "id": "8b5e4293-db1f-4304-a35f-736e689fcfdb",
   "metadata": {},
   "outputs": [],
   "source": [
    "finalDf_char = pd.concat([principalDf_char, obesity[['NObeyesdad']]], axis = 1)"
   ]
  },
  {
   "cell_type": "code",
   "execution_count": 38,
   "id": "08116a98-40dd-4c33-b981-1be3a3a8f103",
   "metadata": {},
   "outputs": [
    {
     "data": {
      "text/html": [
       "<div>\n",
       "<style scoped>\n",
       "    .dataframe tbody tr th:only-of-type {\n",
       "        vertical-align: middle;\n",
       "    }\n",
       "\n",
       "    .dataframe tbody tr th {\n",
       "        vertical-align: top;\n",
       "    }\n",
       "\n",
       "    .dataframe thead th {\n",
       "        text-align: right;\n",
       "    }\n",
       "</style>\n",
       "<table border=\"1\" class=\"dataframe\">\n",
       "  <thead>\n",
       "    <tr style=\"text-align: right;\">\n",
       "      <th></th>\n",
       "      <th>principal component 1</th>\n",
       "      <th>principal component 2</th>\n",
       "      <th>principal component 3</th>\n",
       "    </tr>\n",
       "  </thead>\n",
       "  <tbody>\n",
       "    <tr>\n",
       "      <th>162</th>\n",
       "      <td>-26.721672</td>\n",
       "      <td>-1.925464</td>\n",
       "      <td>0.410373</td>\n",
       "    </tr>\n",
       "    <tr>\n",
       "      <th>2001</th>\n",
       "      <td>46.791572</td>\n",
       "      <td>-5.827132</td>\n",
       "      <td>0.647529</td>\n",
       "    </tr>\n",
       "    <tr>\n",
       "      <th>1435</th>\n",
       "      <td>-4.058408</td>\n",
       "      <td>-1.202861</td>\n",
       "      <td>0.486266</td>\n",
       "    </tr>\n",
       "    <tr>\n",
       "      <th>649</th>\n",
       "      <td>-42.427703</td>\n",
       "      <td>-0.275489</td>\n",
       "      <td>0.392096</td>\n",
       "    </tr>\n",
       "    <tr>\n",
       "      <th>1280</th>\n",
       "      <td>19.519587</td>\n",
       "      <td>0.670063</td>\n",
       "      <td>-0.439845</td>\n",
       "    </tr>\n",
       "    <tr>\n",
       "      <th>...</th>\n",
       "      <td>...</td>\n",
       "      <td>...</td>\n",
       "      <td>...</td>\n",
       "    </tr>\n",
       "    <tr>\n",
       "      <th>1638</th>\n",
       "      <td>33.883653</td>\n",
       "      <td>6.226309</td>\n",
       "      <td>-0.377963</td>\n",
       "    </tr>\n",
       "    <tr>\n",
       "      <th>1095</th>\n",
       "      <td>-4.974584</td>\n",
       "      <td>-1.053592</td>\n",
       "      <td>-0.516748</td>\n",
       "    </tr>\n",
       "    <tr>\n",
       "      <th>1130</th>\n",
       "      <td>-6.645953</td>\n",
       "      <td>-0.977934</td>\n",
       "      <td>0.478799</td>\n",
       "    </tr>\n",
       "    <tr>\n",
       "      <th>1294</th>\n",
       "      <td>-2.153700</td>\n",
       "      <td>-1.201544</td>\n",
       "      <td>0.496407</td>\n",
       "    </tr>\n",
       "    <tr>\n",
       "      <th>860</th>\n",
       "      <td>-1.804765</td>\n",
       "      <td>-4.222746</td>\n",
       "      <td>-0.519714</td>\n",
       "    </tr>\n",
       "  </tbody>\n",
       "</table>\n",
       "<p>1688 rows × 3 columns</p>\n",
       "</div>"
      ],
      "text/plain": [
       "      principal component 1  principal component 2  principal component 3\n",
       "162              -26.721672              -1.925464               0.410373\n",
       "2001              46.791572              -5.827132               0.647529\n",
       "1435              -4.058408              -1.202861               0.486266\n",
       "649              -42.427703              -0.275489               0.392096\n",
       "1280              19.519587               0.670063              -0.439845\n",
       "...                     ...                    ...                    ...\n",
       "1638              33.883653               6.226309              -0.377963\n",
       "1095              -4.974584              -1.053592              -0.516748\n",
       "1130              -6.645953              -0.977934               0.478799\n",
       "1294              -2.153700              -1.201544               0.496407\n",
       "860               -1.804765              -4.222746              -0.519714\n",
       "\n",
       "[1688 rows x 3 columns]"
      ]
     },
     "execution_count": 38,
     "metadata": {},
     "output_type": "execute_result"
    }
   ],
   "source": [
    "X2char_data = finalDf_char.iloc[:,0:3] #Change these two to match n_components\n",
    "Y2char_data = finalDf_char.iloc[:,3]\n",
    "\n",
    "X2char_train, X2char_test, Y2char_train, Y2char_test = train_test_split(X2char_data, Y2char_data,test_size = 0.2, random_state = 42)\n",
    "X2char_train"
   ]
  },
  {
   "cell_type": "code",
   "execution_count": 39,
   "id": "ec2fed94-363f-4b8a-a210-859b110cafe3",
   "metadata": {},
   "outputs": [
    {
     "data": {
      "text/plain": [
       "GaussianNB()"
      ]
     },
     "execution_count": 39,
     "metadata": {},
     "output_type": "execute_result"
    }
   ],
   "source": [
    "classifier = GaussianNB() \n",
    "classifier.fit(X2char_train, Y2char_train)"
   ]
  },
  {
   "cell_type": "code",
   "execution_count": 40,
   "id": "0de1597e-ce9d-4720-b995-5c54ef4712b9",
   "metadata": {},
   "outputs": [
    {
     "data": {
      "text/plain": [
       "array([[49,  7,  0,  0,  0,  0,  0],\n",
       "       [21, 18,  0,  0,  0, 20,  3],\n",
       "       [ 0,  0, 29, 26,  1, 11, 11],\n",
       "       [ 0,  0,  0, 58,  0,  0,  0],\n",
       "       [ 0,  0,  0,  0, 63,  0,  0],\n",
       "       [ 3, 10,  0,  0,  0, 28, 15],\n",
       "       [ 0,  3,  5,  3,  0, 19, 20]], dtype=int64)"
      ]
     },
     "execution_count": 40,
     "metadata": {},
     "output_type": "execute_result"
    }
   ],
   "source": [
    "Y3char_pred = classifier.predict(X2char_test)\n",
    "cnf_char_NB_PCA = confusion_matrix(Y2char_test, Y3char_pred)\n",
    "cnf_char_NB_PCA"
   ]
  },
  {
   "cell_type": "code",
   "execution_count": 41,
   "id": "00eb0341-e9e2-41f7-9c7c-89a993e2c508",
   "metadata": {},
   "outputs": [
    {
     "data": {
      "text/plain": [
       "'print(\"Accuracy with only characteristics, Naive Bayes, and PCA =\",metrics.accuracy_score(Y2char_test,Y3char_pred))\\nprint(\"Precision with only characteristics, Naive Bayes, and PCA =\",metrics.precision_score(Y2char_test,Y3char_pred))\\nprint(\"Recall with only characteristics, Naive Bayes, and PCA =\",metrics.recall_score(Y2char_test,Y3char_pred))'"
      ]
     },
     "execution_count": 41,
     "metadata": {},
     "output_type": "execute_result"
    }
   ],
   "source": [
    "\"\"\"print(\"Accuracy with only characteristics, Naive Bayes, and PCA =\",metrics.accuracy_score(Y2char_test,Y3char_pred))\n",
    "print(\"Precision with only characteristics, Naive Bayes, and PCA =\",metrics.precision_score(Y2char_test,Y3char_pred))\n",
    "print(\"Recall with only characteristics, Naive Bayes, and PCA =\",metrics.recall_score(Y2char_test,Y3char_pred))\"\"\""
   ]
  },
  {
   "cell_type": "code",
   "execution_count": 42,
   "id": "f49c7f18-41c0-4984-af2a-9d57656c7db4",
   "metadata": {},
   "outputs": [
    {
     "data": {
      "text/plain": [
       "Text(0.5, 257.44, 'Predicted label')"
      ]
     },
     "execution_count": 42,
     "metadata": {},
     "output_type": "execute_result"
    },
    {
     "data": {
      "image/png": "[encoded data removed]",
      "text/plain": [
       "<Figure size 432x288 with 2 Axes>"
      ]
     },
     "metadata": {
      "needs_background": "light"
     },
     "output_type": "display_data"
    }
   ],
   "source": [
    "class_names=[0,1] # name  of classes \n",
    "fig, ax = plt.subplots() \n",
    "tick_marks = np.arange(len(class_names)) \n",
    "plt.xticks(tick_marks, class_names) \n",
    "plt.yticks(tick_marks, class_names) \n",
    "# create heatmap \n",
    "sns.heatmap(pd.DataFrame(cnf_char_NB_PCA), annot=True, cmap=\"YlGnBu\" ,fmt='g') \n",
    "ax.xaxis.set_label_position(\"top\") \n",
    "plt.tight_layout() \n",
    "plt.title('Naive Bayes just Characteristics with PCA', y=1.1) \n",
    "plt.ylabel('Actual label') \n",
    "plt.xlabel('Predicted label') "
   ]
  },
  {
   "cell_type": "code",
   "execution_count": 43,
   "id": "e59fbdec-4978-4fec-b2ef-a527492af505",
   "metadata": {},
   "outputs": [],
   "source": [
    "#Now to test only the lifestyle choices of the individual\n",
    "\n",
    "\n",
    "\n"
   ]
  },
  {
   "cell_type": "code",
   "execution_count": 44,
   "id": "6f67283f-9b8b-476a-b03d-bb6505ad7915",
   "metadata": {
    "tags": []
   },
   "outputs": [],
   "source": [
    "X_life = obesity.iloc[:,5:16].values"
   ]
  },
  {
   "cell_type": "code",
   "execution_count": 45,
   "id": "300179a2-0878-47d8-8337-ceb27b6ef6ff",
   "metadata": {},
   "outputs": [],
   "source": [
    "X_life_train, X_life_test, Y_life_train, Y_life_test = train_test_split(X_life, Y,test_size = 0.2, random_state = 42)"
   ]
  },
  {
   "cell_type": "code",
   "execution_count": 46,
   "id": "96d17398-bbbf-4fba-bd32-e7c3bffe4845",
   "metadata": {},
   "outputs": [],
   "source": [
    "#Scaling the data using Standardization\n",
    "sc_X_life = StandardScaler()\n",
    "X_life_train = sc_X_life.fit_transform(X_life_train)\n",
    "X_life_test = sc_X_life.transform(X_life_test)"
   ]
  },
  {
   "cell_type": "code",
   "execution_count": 47,
   "id": "f4df80e5-779c-4ddb-a3bf-f9494ed44fc5",
   "metadata": {},
   "outputs": [
    {
     "data": {
      "text/plain": [
       "LogisticRegression(random_state=0)"
      ]
     },
     "execution_count": 47,
     "metadata": {},
     "output_type": "execute_result"
    }
   ],
   "source": [
    "classifier = LogisticRegression(random_state=0)\n",
    "classifier.fit(X_life_train, Y_life_train)"
   ]
  },
  {
   "cell_type": "code",
   "execution_count": 48,
   "id": "66d7dcc8-f128-4faa-b9d1-1290a505a65d",
   "metadata": {},
   "outputs": [],
   "source": [
    "Y_life_pred = classifier.predict(X_life_test)"
   ]
  },
  {
   "cell_type": "code",
   "execution_count": 49,
   "id": "97aa1058-133b-4d6d-bb37-ba8cbe37ded2",
   "metadata": {},
   "outputs": [
    {
     "data": {
      "text/plain": [
       "array([[25,  8, 11,  3,  5,  2,  2],\n",
       "       [17, 14,  6, 10,  4,  4,  7],\n",
       "       [ 1,  3, 48, 13,  6,  5,  2],\n",
       "       [ 2,  0, 26, 23,  6,  0,  1],\n",
       "       [ 0,  0,  0,  0, 63,  0,  0],\n",
       "       [ 5,  3, 15, 17,  3, 10,  3],\n",
       "       [ 2,  2, 18,  8,  2,  3, 15]], dtype=int64)"
      ]
     },
     "execution_count": 49,
     "metadata": {},
     "output_type": "execute_result"
    }
   ],
   "source": [
    "cnf_life_matrix = confusion_matrix(Y_life_test, Y_life_pred)\n",
    "cnf_life_matrix"
   ]
  },
  {
   "cell_type": "code",
   "execution_count": null,
   "id": "d8d665f8-7044-457b-bd47-39891ae49170",
   "metadata": {},
   "outputs": [],
   "source": []
  },
  {
   "cell_type": "code",
   "execution_count": 50,
   "id": "e00a7c67-7d63-42a1-a31c-b1ed935c3d0f",
   "metadata": {},
   "outputs": [
    {
     "data": {
      "text/plain": [
       "'lifeAccuracy = metrics.accuracy_score(Y_life_test, Y_life_pred)\\nlifePrecision = metrics.precision_score(Y_life_test, Y_life_pred)\\nlifeRecall = metrics.recall_score(Y_life_test, Y_life_pred)\\n\\n#Getting the metrics for Logistic Regression\\nprint(\"Accuracy for only lifestyle choices with Logistic Regression:\",metrics.accuracy_score(Y_life_test, Y_life_pred)) \\nprint(\"Precision for only lifestyle choices with Logistic Regression:\",metrics.precision_score(Y_life_test, Y_life_pred)) \\nprint(\"Recall for only lifestyle choices with Logistic Regression:\",metrics.recall_score(Y_life_test, Y_life_pred)) '"
      ]
     },
     "execution_count": 50,
     "metadata": {},
     "output_type": "execute_result"
    }
   ],
   "source": [
    "\"\"\"lifeAccuracy = metrics.accuracy_score(Y_life_test, Y_life_pred)\n",
    "lifePrecision = metrics.precision_score(Y_life_test, Y_life_pred)\n",
    "lifeRecall = metrics.recall_score(Y_life_test, Y_life_pred)\n",
    "\n",
    "#Getting the metrics for Logistic Regression\n",
    "print(\"Accuracy for only lifestyle choices with Logistic Regression:\",metrics.accuracy_score(Y_life_test, Y_life_pred)) \n",
    "print(\"Precision for only lifestyle choices with Logistic Regression:\",metrics.precision_score(Y_life_test, Y_life_pred)) \n",
    "print(\"Recall for only lifestyle choices with Logistic Regression:\",metrics.recall_score(Y_life_test, Y_life_pred)) \"\"\""
   ]
  },
  {
   "cell_type": "code",
   "execution_count": 51,
   "id": "e066b256-0bc5-4e8f-9d69-60daf019d8c8",
   "metadata": {},
   "outputs": [
    {
     "data": {
      "text/plain": [
       "Text(0.5, 257.44, 'Predicted label')"
      ]
     },
     "execution_count": 51,
     "metadata": {},
     "output_type": "execute_result"
    },
    {
     "data": {
      "image/png": "[encoded data removed]",
      "text/plain": [
       "<Figure size 432x288 with 2 Axes>"
      ]
     },
     "metadata": {
      "needs_background": "light"
     },
     "output_type": "display_data"
    }
   ],
   "source": [
    "class_names=[0,1] # name  of classes \n",
    "fig, ax = plt.subplots() \n",
    "tick_marks = np.arange(len(class_names)) \n",
    "plt.xticks(tick_marks, class_names) \n",
    "plt.yticks(tick_marks, class_names) \n",
    "# create heatmap \n",
    "sns.heatmap(pd.DataFrame(cnf_life_matrix), annot=True, cmap=\"YlGnBu\" ,fmt='g') \n",
    "ax.xaxis.set_label_position(\"top\") \n",
    "plt.tight_layout() \n",
    "plt.title('Logistic Regression just Life Style', y=1.1) \n",
    "plt.ylabel('Actual label') \n",
    "plt.xlabel('Predicted label') "
   ]
  },
  {
   "cell_type": "code",
   "execution_count": 52,
   "id": "326986ac-d9cf-48f8-8372-1bedd3713957",
   "metadata": {},
   "outputs": [
    {
     "data": {
      "text/plain": [
       "GaussianNB()"
      ]
     },
     "execution_count": 52,
     "metadata": {},
     "output_type": "execute_result"
    }
   ],
   "source": [
    "classifier = GaussianNB() \n",
    "classifier.fit(X_life_train, Y_life_train)"
   ]
  },
  {
   "cell_type": "code",
   "execution_count": 53,
   "id": "a3c121fa-2b2f-49bd-85a1-8d8a67b95e55",
   "metadata": {},
   "outputs": [
    {
     "data": {
      "text/plain": [
       "Text(0.5, 257.44, 'Predicted label')"
      ]
     },
     "execution_count": 53,
     "metadata": {},
     "output_type": "execute_result"
    },
    {
     "data": {
      "image/png": "[encoded data removed]",
      "text/plain": [
       "<Figure size 432x288 with 2 Axes>"
      ]
     },
     "metadata": {
      "needs_background": "light"
     },
     "output_type": "display_data"
    }
   ],
   "source": [
    "Y2_life_pred  =  classifier.predict(X_life_test) \n",
    "cnf_life_NB = confusion_matrix(Y_life_test, Y2_life_pred)\n",
    "class_names=[0,1] # name  of classes \n",
    "fig, ax = plt.subplots() \n",
    "tick_marks = np.arange(len(class_names)) \n",
    "plt.xticks(tick_marks, class_names) \n",
    "plt.yticks(tick_marks, class_names) \n",
    "# create heatmap \n",
    "sns.heatmap(pd.DataFrame(cnf_life_NB), annot=True, cmap=\"YlGnBu\" ,fmt='g') \n",
    "ax.xaxis.set_label_position(\"top\") \n",
    "plt.tight_layout() \n",
    "plt.title('Naive Bayes just Life Style', y=1.1) \n",
    "plt.ylabel('Actual label') \n",
    "plt.xlabel('Predicted label') "
   ]
  },
  {
   "cell_type": "code",
   "execution_count": 54,
   "id": "ed3767b8-2267-4bdf-8c1c-d59252cf8075",
   "metadata": {},
   "outputs": [
    {
     "data": {
      "text/plain": [
       "'print(\"Accuracy for only Naive Bayes:\",metrics.accuracy_score(Y_life_test, Y2_life_pred)) \\nprint(\"Precision for Naive Bayes:\",metrics.precision_score(Y_life_test, Y2_life_pred)) \\nprint(\"Recall for Naive Bayes:\",metrics.recall_score(Y_life_test, Y2_life_pred)) '"
      ]
     },
     "execution_count": 54,
     "metadata": {},
     "output_type": "execute_result"
    }
   ],
   "source": [
    "\"\"\"print(\"Accuracy for only Naive Bayes:\",metrics.accuracy_score(Y_life_test, Y2_life_pred)) \n",
    "print(\"Precision for Naive Bayes:\",metrics.precision_score(Y_life_test, Y2_life_pred)) \n",
    "print(\"Recall for Naive Bayes:\",metrics.recall_score(Y_life_test, Y2_life_pred)) \"\"\""
   ]
  },
  {
   "cell_type": "code",
   "execution_count": 55,
   "id": "50e8a93e-0c8b-4b02-9816-4480692fa26b",
   "metadata": {},
   "outputs": [
    {
     "data": {
      "text/html": [
       "<div>\n",
       "<style scoped>\n",
       "    .dataframe tbody tr th:only-of-type {\n",
       "        vertical-align: middle;\n",
       "    }\n",
       "\n",
       "    .dataframe tbody tr th {\n",
       "        vertical-align: top;\n",
       "    }\n",
       "\n",
       "    .dataframe thead th {\n",
       "        text-align: right;\n",
       "    }\n",
       "</style>\n",
       "<table border=\"1\" class=\"dataframe\">\n",
       "  <thead>\n",
       "    <tr style=\"text-align: right;\">\n",
       "      <th></th>\n",
       "      <th>principal component 1</th>\n",
       "      <th>principal component 2</th>\n",
       "      <th>principal component 3</th>\n",
       "      <th>principal component 4</th>\n",
       "      <th>principal component 5</th>\n",
       "      <th>principal component 6</th>\n",
       "    </tr>\n",
       "  </thead>\n",
       "  <tbody>\n",
       "    <tr>\n",
       "      <th>0</th>\n",
       "      <td>-0.699965</td>\n",
       "      <td>-0.686166</td>\n",
       "      <td>0.384574</td>\n",
       "      <td>0.278988</td>\n",
       "      <td>0.293901</td>\n",
       "      <td>0.473098</td>\n",
       "    </tr>\n",
       "    <tr>\n",
       "      <th>1</th>\n",
       "      <td>2.088562</td>\n",
       "      <td>0.675158</td>\n",
       "      <td>-1.120662</td>\n",
       "      <td>0.137725</td>\n",
       "      <td>-0.181856</td>\n",
       "      <td>0.496883</td>\n",
       "    </tr>\n",
       "    <tr>\n",
       "      <th>2</th>\n",
       "      <td>1.045874</td>\n",
       "      <td>0.198064</td>\n",
       "      <td>0.448007</td>\n",
       "      <td>-0.157789</td>\n",
       "      <td>0.293081</td>\n",
       "      <td>0.419330</td>\n",
       "    </tr>\n",
       "    <tr>\n",
       "      <th>3</th>\n",
       "      <td>1.026053</td>\n",
       "      <td>0.179235</td>\n",
       "      <td>-0.765853</td>\n",
       "      <td>-0.491981</td>\n",
       "      <td>-0.325431</td>\n",
       "      <td>0.418051</td>\n",
       "    </tr>\n",
       "    <tr>\n",
       "      <th>4</th>\n",
       "      <td>-1.655237</td>\n",
       "      <td>1.110104</td>\n",
       "      <td>-0.465290</td>\n",
       "      <td>-0.015019</td>\n",
       "      <td>0.504607</td>\n",
       "      <td>0.490162</td>\n",
       "    </tr>\n",
       "    <tr>\n",
       "      <th>...</th>\n",
       "      <td>...</td>\n",
       "      <td>...</td>\n",
       "      <td>...</td>\n",
       "      <td>...</td>\n",
       "      <td>...</td>\n",
       "      <td>...</td>\n",
       "    </tr>\n",
       "    <tr>\n",
       "      <th>2106</th>\n",
       "      <td>0.688083</td>\n",
       "      <td>-0.034920</td>\n",
       "      <td>0.113215</td>\n",
       "      <td>-0.266518</td>\n",
       "      <td>-0.634525</td>\n",
       "      <td>-0.306146</td>\n",
       "    </tr>\n",
       "    <tr>\n",
       "      <th>2107</th>\n",
       "      <td>0.431736</td>\n",
       "      <td>-0.159420</td>\n",
       "      <td>-0.254946</td>\n",
       "      <td>-0.061262</td>\n",
       "      <td>-0.488470</td>\n",
       "      <td>-0.256838</td>\n",
       "    </tr>\n",
       "    <tr>\n",
       "      <th>2108</th>\n",
       "      <td>0.509013</td>\n",
       "      <td>-0.124422</td>\n",
       "      <td>-0.229341</td>\n",
       "      <td>-0.016484</td>\n",
       "      <td>-0.494783</td>\n",
       "      <td>-0.254793</td>\n",
       "    </tr>\n",
       "    <tr>\n",
       "      <th>2109</th>\n",
       "      <td>0.434136</td>\n",
       "      <td>-0.186713</td>\n",
       "      <td>-0.561092</td>\n",
       "      <td>0.730134</td>\n",
       "      <td>-0.335723</td>\n",
       "      <td>-0.141409</td>\n",
       "    </tr>\n",
       "    <tr>\n",
       "      <th>2110</th>\n",
       "      <td>0.348840</td>\n",
       "      <td>-0.235567</td>\n",
       "      <td>-0.456879</td>\n",
       "      <td>0.813747</td>\n",
       "      <td>-0.374533</td>\n",
       "      <td>-0.129831</td>\n",
       "    </tr>\n",
       "  </tbody>\n",
       "</table>\n",
       "<p>2111 rows × 6 columns</p>\n",
       "</div>"
      ],
      "text/plain": [
       "      principal component 1  principal component 2  principal component 3  \\\n",
       "0                 -0.699965              -0.686166               0.384574   \n",
       "1                  2.088562               0.675158              -1.120662   \n",
       "2                  1.045874               0.198064               0.448007   \n",
       "3                  1.026053               0.179235              -0.765853   \n",
       "4                 -1.655237               1.110104              -0.465290   \n",
       "...                     ...                    ...                    ...   \n",
       "2106               0.688083              -0.034920               0.113215   \n",
       "2107               0.431736              -0.159420              -0.254946   \n",
       "2108               0.509013              -0.124422              -0.229341   \n",
       "2109               0.434136              -0.186713              -0.561092   \n",
       "2110               0.348840              -0.235567              -0.456879   \n",
       "\n",
       "      principal component 4  principal component 5  principal component 6  \n",
       "0                  0.278988               0.293901               0.473098  \n",
       "1                  0.137725              -0.181856               0.496883  \n",
       "2                 -0.157789               0.293081               0.419330  \n",
       "3                 -0.491981              -0.325431               0.418051  \n",
       "4                 -0.015019               0.504607               0.490162  \n",
       "...                     ...                    ...                    ...  \n",
       "2106              -0.266518              -0.634525              -0.306146  \n",
       "2107              -0.061262              -0.488470              -0.256838  \n",
       "2108              -0.016484              -0.494783              -0.254793  \n",
       "2109               0.730134              -0.335723              -0.141409  \n",
       "2110               0.813747              -0.374533              -0.129831  \n",
       "\n",
       "[2111 rows x 6 columns]"
      ]
     },
     "execution_count": 55,
     "metadata": {},
     "output_type": "execute_result"
    }
   ],
   "source": [
    "pca = PCA(n_components=6) #Change this to different values to see if evaluation metrics change\n",
    "principalComponents = pca.fit_transform(X_life) \n",
    "principalDf_life = pd.DataFrame(data = principalComponents \n",
    "             , columns = ['principal component 1', 'principal component 2','principal component 3','principal component 4','principal component 5', 'principal component 6']) #Change according to n_components\n",
    "principalDf_life"
   ]
  },
  {
   "cell_type": "code",
   "execution_count": 56,
   "id": "0cf2dd6c-29b6-4721-af71-cd9cc39fc5bb",
   "metadata": {},
   "outputs": [],
   "source": [
    "finalDf_life = pd.concat([principalDf_life, obesity[['NObeyesdad']]], axis = 1)"
   ]
  },
  {
   "cell_type": "code",
   "execution_count": 57,
   "id": "cbb8fa8d-a6a6-4009-855f-bc0ece3ec385",
   "metadata": {
    "tags": []
   },
   "outputs": [
    {
     "data": {
      "text/html": [
       "<div>\n",
       "<style scoped>\n",
       "    .dataframe tbody tr th:only-of-type {\n",
       "        vertical-align: middle;\n",
       "    }\n",
       "\n",
       "    .dataframe tbody tr th {\n",
       "        vertical-align: top;\n",
       "    }\n",
       "\n",
       "    .dataframe thead th {\n",
       "        text-align: right;\n",
       "    }\n",
       "</style>\n",
       "<table border=\"1\" class=\"dataframe\">\n",
       "  <thead>\n",
       "    <tr style=\"text-align: right;\">\n",
       "      <th></th>\n",
       "      <th>principal component 1</th>\n",
       "      <th>principal component 2</th>\n",
       "      <th>principal component 3</th>\n",
       "      <th>principal component 4</th>\n",
       "      <th>principal component 5</th>\n",
       "      <th>principal component 6</th>\n",
       "    </tr>\n",
       "  </thead>\n",
       "  <tbody>\n",
       "    <tr>\n",
       "      <th>162</th>\n",
       "      <td>0.975785</td>\n",
       "      <td>0.107524</td>\n",
       "      <td>-0.721751</td>\n",
       "      <td>-0.564255</td>\n",
       "      <td>-0.383663</td>\n",
       "      <td>0.500903</td>\n",
       "    </tr>\n",
       "    <tr>\n",
       "      <th>2001</th>\n",
       "      <td>0.753535</td>\n",
       "      <td>-0.036277</td>\n",
       "      <td>-0.397618</td>\n",
       "      <td>0.757323</td>\n",
       "      <td>-0.390946</td>\n",
       "      <td>-0.155901</td>\n",
       "    </tr>\n",
       "    <tr>\n",
       "      <th>1435</th>\n",
       "      <td>-1.161207</td>\n",
       "      <td>0.899462</td>\n",
       "      <td>1.036982</td>\n",
       "      <td>1.269776</td>\n",
       "      <td>0.882924</td>\n",
       "      <td>0.089244</td>\n",
       "    </tr>\n",
       "    <tr>\n",
       "      <th>649</th>\n",
       "      <td>-0.225569</td>\n",
       "      <td>0.947056</td>\n",
       "      <td>-0.967276</td>\n",
       "      <td>0.126776</td>\n",
       "      <td>-0.363368</td>\n",
       "      <td>1.187474</td>\n",
       "    </tr>\n",
       "    <tr>\n",
       "      <th>1280</th>\n",
       "      <td>1.027936</td>\n",
       "      <td>0.106803</td>\n",
       "      <td>-0.465507</td>\n",
       "      <td>0.618722</td>\n",
       "      <td>-0.364380</td>\n",
       "      <td>-0.183766</td>\n",
       "    </tr>\n",
       "    <tr>\n",
       "      <th>...</th>\n",
       "      <td>...</td>\n",
       "      <td>...</td>\n",
       "      <td>...</td>\n",
       "      <td>...</td>\n",
       "      <td>...</td>\n",
       "      <td>...</td>\n",
       "    </tr>\n",
       "    <tr>\n",
       "      <th>1638</th>\n",
       "      <td>0.264834</td>\n",
       "      <td>-0.292223</td>\n",
       "      <td>0.207750</td>\n",
       "      <td>0.768427</td>\n",
       "      <td>-0.601503</td>\n",
       "      <td>-0.149936</td>\n",
       "    </tr>\n",
       "    <tr>\n",
       "      <th>1095</th>\n",
       "      <td>-0.649283</td>\n",
       "      <td>0.771680</td>\n",
       "      <td>0.670534</td>\n",
       "      <td>-0.333678</td>\n",
       "      <td>0.132133</td>\n",
       "      <td>-0.199995</td>\n",
       "    </tr>\n",
       "    <tr>\n",
       "      <th>1130</th>\n",
       "      <td>-0.531000</td>\n",
       "      <td>-0.650664</td>\n",
       "      <td>1.292397</td>\n",
       "      <td>0.684725</td>\n",
       "      <td>-0.008951</td>\n",
       "      <td>-0.081537</td>\n",
       "    </tr>\n",
       "    <tr>\n",
       "      <th>1294</th>\n",
       "      <td>-0.040311</td>\n",
       "      <td>-0.304920</td>\n",
       "      <td>0.101067</td>\n",
       "      <td>0.023401</td>\n",
       "      <td>0.372065</td>\n",
       "      <td>-0.159379</td>\n",
       "    </tr>\n",
       "    <tr>\n",
       "      <th>860</th>\n",
       "      <td>1.585405</td>\n",
       "      <td>0.389478</td>\n",
       "      <td>-0.583944</td>\n",
       "      <td>0.557391</td>\n",
       "      <td>-0.256332</td>\n",
       "      <td>-0.207377</td>\n",
       "    </tr>\n",
       "  </tbody>\n",
       "</table>\n",
       "<p>1688 rows × 6 columns</p>\n",
       "</div>"
      ],
      "text/plain": [
       "      principal component 1  principal component 2  principal component 3  \\\n",
       "162                0.975785               0.107524              -0.721751   \n",
       "2001               0.753535              -0.036277              -0.397618   \n",
       "1435              -1.161207               0.899462               1.036982   \n",
       "649               -0.225569               0.947056              -0.967276   \n",
       "1280               1.027936               0.106803              -0.465507   \n",
       "...                     ...                    ...                    ...   \n",
       "1638               0.264834              -0.292223               0.207750   \n",
       "1095              -0.649283               0.771680               0.670534   \n",
       "1130              -0.531000              -0.650664               1.292397   \n",
       "1294              -0.040311              -0.304920               0.101067   \n",
       "860                1.585405               0.389478              -0.583944   \n",
       "\n",
       "      principal component 4  principal component 5  principal component 6  \n",
       "162               -0.564255              -0.383663               0.500903  \n",
       "2001               0.757323              -0.390946              -0.155901  \n",
       "1435               1.269776               0.882924               0.089244  \n",
       "649                0.126776              -0.363368               1.187474  \n",
       "1280               0.618722              -0.364380              -0.183766  \n",
       "...                     ...                    ...                    ...  \n",
       "1638               0.768427              -0.601503              -0.149936  \n",
       "1095              -0.333678               0.132133              -0.199995  \n",
       "1130               0.684725              -0.008951              -0.081537  \n",
       "1294               0.023401               0.372065              -0.159379  \n",
       "860                0.557391              -0.256332              -0.207377  \n",
       "\n",
       "[1688 rows x 6 columns]"
      ]
     },
     "execution_count": 57,
     "metadata": {},
     "output_type": "execute_result"
    }
   ],
   "source": [
    "X2_life_data = finalDf_life.iloc[:,0:6] #Change these two to match n_components\n",
    "Y2_life_data = finalDf_life.iloc[:,6]\n",
    "\n",
    "X2_life_train, X2_life_test, Y2_life_train, Y2_life_test = train_test_split(X2_life_data, Y2_life_data,test_size = 0.2, random_state = 42)\n",
    "X2_life_train"
   ]
  },
  {
   "cell_type": "code",
   "execution_count": 58,
   "id": "7351372f-34d5-4560-91c6-c00978590fab",
   "metadata": {},
   "outputs": [
    {
     "data": {
      "text/plain": [
       "GaussianNB()"
      ]
     },
     "execution_count": 58,
     "metadata": {},
     "output_type": "execute_result"
    }
   ],
   "source": [
    "classifier = GaussianNB() \n",
    "classifier.fit(X2_life_train, Y2_life_train)"
   ]
  },
  {
   "cell_type": "code",
   "execution_count": 59,
   "id": "0b6773ee-fd6d-4d56-957a-3ab09a0e50ee",
   "metadata": {},
   "outputs": [
    {
     "data": {
      "text/plain": [
       "Text(0.5, 257.44, 'Predicted label')"
      ]
     },
     "execution_count": 59,
     "metadata": {},
     "output_type": "execute_result"
    },
    {
     "data": {
      "image/png": "[encoded data removed]",
      "text/plain": [
       "<Figure size 432x288 with 2 Axes>"
      ]
     },
     "metadata": {
      "needs_background": "light"
     },
     "output_type": "display_data"
    }
   ],
   "source": [
    "Y3_life_pred = classifier.predict(X2_life_test)\n",
    "cnf_life_NB_PCA = confusion_matrix(Y2_life_test, Y3_life_pred)\n",
    "class_names=[0,1] # name  of classes \n",
    "fig, ax = plt.subplots() \n",
    "tick_marks = np.arange(len(class_names)) \n",
    "plt.xticks(tick_marks, class_names) \n",
    "plt.yticks(tick_marks, class_names) \n",
    "# create heatmap \n",
    "sns.heatmap(pd.DataFrame(cnf_life_NB_PCA), annot=True, cmap=\"YlGnBu\" ,fmt='g') \n",
    "ax.xaxis.set_label_position(\"top\") \n",
    "plt.tight_layout() \n",
    "plt.title('Naive Bayes just Life Style with PCA', y=1.1) \n",
    "plt.ylabel('Actual label') \n",
    "plt.xlabel('Predicted label') "
   ]
  },
  {
   "cell_type": "code",
   "execution_count": 60,
   "id": "4ffca61c-f1a1-4273-86f9-caf7a0ada4eb",
   "metadata": {},
   "outputs": [
    {
     "data": {
      "text/plain": [
       "'print(\"Accuracy with only life style, Naive Bayes, and PCA =\",metrics.accuracy_score(Y2_life_test,Y3_life_pred))\\nprint(\"Precision with only life style, Naive Bayes, and PCA =\",metrics.precision_score(Y2_life_test,Y3_life_pred))\\nprint(\"Recall with only life style, Naive Bayes, and PCA =\",metrics.recall_score(Y2_life_test,Y3_life_pred))'"
      ]
     },
     "execution_count": 60,
     "metadata": {},
     "output_type": "execute_result"
    }
   ],
   "source": [
    "#These results are using \n",
    "\"\"\"print(\"Accuracy with only life style, Naive Bayes, and PCA =\",metrics.accuracy_score(Y2_life_test,Y3_life_pred))\n",
    "print(\"Precision with only life style, Naive Bayes, and PCA =\",metrics.precision_score(Y2_life_test,Y3_life_pred))\n",
    "print(\"Recall with only life style, Naive Bayes, and PCA =\",metrics.recall_score(Y2_life_test,Y3_life_pred))\"\"\""
   ]
  },
  {
   "cell_type": "code",
   "execution_count": 61,
   "id": "eab98c75-355c-4db5-975d-07902b171f75",
   "metadata": {},
   "outputs": [],
   "source": [
    "#Now to do this with SVM instead\n",
    "\n",
    "\n"
   ]
  },
  {
   "cell_type": "code",
   "execution_count": null,
   "id": "ac3ea179-3998-4e63-aedb-fc6fa89b140c",
   "metadata": {},
   "outputs": [],
   "source": [
    "from sklearn.svm import SVC \n",
    "model = SVC(kernel='linear', C=1E10) \n",
    "model.fit(X, Y) "
   ]
  },
  {
   "cell_type": "code",
   "execution_count": null,
   "id": "6dc22de7-44a8-44a9-a12e-b2f9c82a1b62",
   "metadata": {},
   "outputs": [],
   "source": []
  }
 ],
 "metadata": {
  "kernelspec": {
   "display_name": "Python 3",
   "language": "python",
   "name": "python3"
  },
  "language_info": {
   "codemirror_mode": {
    "name": "ipython",
    "version": 3
   },
   "file_extension": ".py",
   "mimetype": "text/x-python",
   "name": "python",
   "nbconvert_exporter": "python",
   "pygments_lexer": "ipython3",
   "version": "3.8.8"
  }
 },
 "nbformat": 4,
 "nbformat_minor": 5
}
