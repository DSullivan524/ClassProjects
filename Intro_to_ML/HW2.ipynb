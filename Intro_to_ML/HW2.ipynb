{
 "cells": [
  {
   "cell_type": "code",
   "execution_count": 1,
   "id": "f9273405-ac67-4f59-8435-06c2cac90dae",
   "metadata": {},
   "outputs": [],
   "source": [
    "import numpy as np\n",
    "import pandas as pd\n",
    "import matplotlib.pyplot as plt\n",
    "import warnings\n",
    "warnings.filterwarnings('ignore')\n",
    "\n",
    "#Daniel Sullivan\n",
    "#801095863\n",
    "#Homework 2\n",
    "\n",
    "dataset = pd.read_csv('diabetes.csv')"
   ]
  },
  {
   "cell_type": "code",
   "execution_count": 2,
   "id": "74dd1a6e-9ab5-484c-8e1c-0de62c166541",
   "metadata": {},
   "outputs": [],
   "source": [
    "X = dataset.iloc[:,0:8].values\n",
    "Y = dataset.iloc[:,8].values"
   ]
  },
  {
   "cell_type": "code",
   "execution_count": 3,
   "id": "fce725a2-4c1a-40a8-92de-c0089d3ce50a",
   "metadata": {},
   "outputs": [],
   "source": [
    "from sklearn.model_selection import train_test_split \n",
    "X_train, X_test, Y_train, Y_test = train_test_split(X, Y,test_size = 0.2, random_state = 42)"
   ]
  },
  {
   "cell_type": "code",
   "execution_count": 4,
   "id": "414310be-cbf5-4e70-a1b2-c5dbf04b560c",
   "metadata": {},
   "outputs": [],
   "source": [
    "from sklearn.preprocessing import StandardScaler\n",
    "#Scaling the data using Standardization\n",
    "sc_X = StandardScaler()\n",
    "X_train = sc_X.fit_transform(X_train)\n",
    "X_test = sc_X.transform(X_test)"
   ]
  },
  {
   "cell_type": "code",
   "execution_count": 5,
   "id": "8699eda9-382c-4f5f-a05e-ed3d76b7437e",
   "metadata": {},
   "outputs": [
    {
     "data": {
      "text/plain": [
       "LogisticRegression(random_state=0)"
      ]
     },
     "execution_count": 5,
     "metadata": {},
     "output_type": "execute_result"
    }
   ],
   "source": [
    "#Problem 1\n",
    "\n",
    "\n",
    "from sklearn.linear_model import LogisticRegression \n",
    "\n",
    "classifier = LogisticRegression(random_state=0)\n",
    "classifier.fit(X_train, Y_train)"
   ]
  },
  {
   "cell_type": "code",
   "execution_count": 6,
   "id": "3998ad19-373b-45ef-b009-12e3e00ef8a3",
   "metadata": {},
   "outputs": [
    {
     "data": {
      "text/plain": [
       "array([0, 0, 0, 0, 0, 0, 0, 1, 1, 1], dtype=int64)"
      ]
     },
     "execution_count": 6,
     "metadata": {},
     "output_type": "execute_result"
    }
   ],
   "source": [
    "Y_pred = classifier.predict(X_test)\n",
    "Y_pred[0:10]"
   ]
  },
  {
   "cell_type": "code",
   "execution_count": 7,
   "id": "4b73b501-f985-4e2f-a119-f71a553de8eb",
   "metadata": {},
   "outputs": [
    {
     "data": {
      "text/plain": [
       "array([[79, 20],\n",
       "       [18, 37]], dtype=int64)"
      ]
     },
     "execution_count": 7,
     "metadata": {},
     "output_type": "execute_result"
    }
   ],
   "source": [
    "from sklearn.metrics import confusion_matrix \n",
    "\n",
    "cnf_matrix = confusion_matrix(Y_test, Y_pred)\n",
    "cnf_matrix"
   ]
  },
  {
   "cell_type": "code",
   "execution_count": 8,
   "id": "a7f60875-4f4d-4375-b112-2c3af092e690",
   "metadata": {},
   "outputs": [
    {
     "name": "stdout",
     "output_type": "stream",
     "text": [
      "Accuracy for Problem1: 0.7532467532467533\n",
      "Precision for Problem1: 0.6491228070175439\n",
      "Recall for Problem1: 0.6727272727272727\n"
     ]
    }
   ],
   "source": [
    "from sklearn import metrics\n",
    "\n",
    "Prob1Accuracy = metrics.accuracy_score(Y_test, Y_pred)\n",
    "Prob1Precision = metrics.precision_score(Y_test, Y_pred)\n",
    "Prob1Recall = metrics.recall_score(Y_test, Y_pred)\n",
    "\n",
    "#Getting the metrics for Logistic Regression\n",
    "print(\"Accuracy for Problem1:\",metrics.accuracy_score(Y_test, Y_pred)) \n",
    "print(\"Precision for Problem1:\",metrics.precision_score(Y_test, Y_pred)) \n",
    "print(\"Recall for Problem1:\",metrics.recall_score(Y_test, Y_pred)) "
   ]
  },
  {
   "cell_type": "code",
   "execution_count": 9,
   "id": "096c3e28-82c0-4789-926c-60a58f070fd5",
   "metadata": {},
   "outputs": [
    {
     "data": {
      "text/plain": [
       "Text(0.5, 257.44, 'Predicted label')"
      ]
     },
     "execution_count": 9,
     "metadata": {},
     "output_type": "execute_result"
    },
    {
     "data": {
      "image/png": "[encoded data removed]",
      "text/plain": [
       "<Figure size 432x288 with 2 Axes>"
      ]
     },
     "metadata": {
      "needs_background": "light"
     },
     "output_type": "display_data"
    }
   ],
   "source": [
    "#Plotting the heat map for Logistic Regression\n",
    "import seaborn as sns \n",
    "class_names=[0,1] # name  of classes \n",
    "fig, ax = plt.subplots() \n",
    "tick_marks = np.arange(len(class_names)) \n",
    "plt.xticks(tick_marks, class_names) \n",
    "plt.yticks(tick_marks, class_names) \n",
    "# create heatmap \n",
    "sns.heatmap(pd.DataFrame(cnf_matrix), annot=True, cmap=\"YlGnBu\" ,fmt='g') \n",
    "ax.xaxis.set_label_position(\"top\") \n",
    "plt.tight_layout() \n",
    "plt.title('Confusion matrix Logistic Regression', y=1.1) \n",
    "plt.ylabel('Actual label') \n",
    "plt.xlabel('Predicted label') "
   ]
  },
  {
   "cell_type": "code",
   "execution_count": 10,
   "id": "7001e841-0bb1-476c-8fc6-c7e94111fd27",
   "metadata": {},
   "outputs": [
    {
     "data": {
      "text/plain": [
       "GaussianNB()"
      ]
     },
     "execution_count": 10,
     "metadata": {},
     "output_type": "execute_result"
    }
   ],
   "source": [
    "#Problem 2\n",
    "\n",
    "\n",
    "\n",
    "from sklearn.naive_bayes import GaussianNB \n",
    "classifier = GaussianNB() \n",
    "classifier.fit(X_train, Y_train) "
   ]
  },
  {
   "cell_type": "code",
   "execution_count": 11,
   "id": "a9da3a1c-3b68-401a-83bf-f8862091ffb2",
   "metadata": {},
   "outputs": [],
   "source": [
    "Y2_pred  =  classifier.predict(X_test) "
   ]
  },
  {
   "cell_type": "code",
   "execution_count": 12,
   "id": "7be8c4f0-5803-474f-a4f3-330afb77f4da",
   "metadata": {},
   "outputs": [
    {
     "name": "stdout",
     "output_type": "stream",
     "text": [
      "Accuracy for Problem2: 0.7662337662337663\n",
      "Precision for Problem2: 0.6610169491525424\n",
      "Recall for Problem2: 0.7090909090909091\n"
     ]
    }
   ],
   "source": [
    "#Getting the metrics for Gaussian Naive-Bayes\n",
    "print(\"Accuracy for Problem2:\",metrics.accuracy_score(Y_test, Y2_pred)) \n",
    "print(\"Precision for Problem2:\",metrics.precision_score(Y_test, Y2_pred)) \n",
    "print(\"Recall for Problem2:\",metrics.recall_score(Y_test, Y2_pred)) "
   ]
  },
  {
   "cell_type": "code",
   "execution_count": 13,
   "id": "8edec4c6-4b52-4563-99be-7d8b7b243bfc",
   "metadata": {},
   "outputs": [
    {
     "data": {
      "text/plain": [
       "array([[79, 20],\n",
       "       [16, 39]], dtype=int64)"
      ]
     },
     "execution_count": 13,
     "metadata": {},
     "output_type": "execute_result"
    }
   ],
   "source": [
    "from sklearn.metrics import confusion_matrix,accuracy_score \n",
    "cm = confusion_matrix(Y_test, Y2_pred) \n",
    "cm"
   ]
  },
  {
   "cell_type": "code",
   "execution_count": 14,
   "id": "ab5e81c9-da93-420f-aecd-62c43921e56b",
   "metadata": {},
   "outputs": [
    {
     "data": {
      "text/plain": [
       "Text(0.5, 257.44, 'Predicted label')"
      ]
     },
     "execution_count": 14,
     "metadata": {},
     "output_type": "execute_result"
    },
    {
     "data": {
      "image/png": "[encoded data removed]",
      "text/plain": [
       "<Figure size 432x288 with 2 Axes>"
      ]
     },
     "metadata": {
      "needs_background": "light"
     },
     "output_type": "display_data"
    }
   ],
   "source": [
    "#Plotting the heat map for the Naive-Bayes Classifier\n",
    "class_names=[0,1] # name  of classes \n",
    "fig, ax = plt.subplots() \n",
    "tick_marks = np.arange(len(class_names)) \n",
    "plt.xticks(tick_marks, class_names) \n",
    "plt.yticks(tick_marks, class_names) \n",
    "# create heatmap \n",
    "sns.heatmap(pd.DataFrame(cm), annot=True, cmap=\"YlGnBu\" ,fmt='g') \n",
    "ax.xaxis.set_label_position(\"top\") \n",
    "plt.tight_layout() \n",
    "plt.title('Confusion matrix Naive-Bayes', y=1.1) \n",
    "plt.ylabel('Actual label') \n",
    "plt.xlabel('Predicted label') "
   ]
  },
  {
   "cell_type": "code",
   "execution_count": 15,
   "id": "2804f698-185d-4b8e-be67-0e870fc58583",
   "metadata": {},
   "outputs": [],
   "source": [
    "#Problem 3\n",
    "\n",
    "\n",
    "\n",
    "\n",
    "from sklearn.model_selection import cross_validate\n",
    "from sklearn.model_selection import cross_val_score\n",
    "from sklearn.model_selection import KFold\n",
    "\n",
    "\n",
    "\n",
    "classifier2 = LogisticRegression(class_weight = 'balanced')\n",
    "validationMetrics = {'accuracy': \"accuracy\", \"precision\": \"precision\", \"recall\": \"recall\"}"
   ]
  },
  {
   "cell_type": "code",
   "execution_count": 16,
   "id": "efc674e4-0315-41d4-8e5b-8a0c1e17b89f",
   "metadata": {},
   "outputs": [
    {
     "name": "stdout",
     "output_type": "stream",
     "text": [
      "K-fold with k=5\n",
      "Accuracy 0.7566080977845684\n",
      "Precision 0.6345484277924214\n",
      "Recall 0.7240391334730958\n",
      "\n",
      "\n",
      "Accuracy for Problem1 0.7532467532467533 compared to the Accuracy for Problem3 0.7566080977845684\n",
      "Precision for Problem1 0.6491228070175439 compared to the Precision for Problem3 0.6345484277924214\n",
      "Recall for Problem1 0.6727272727272727 compared to the Recall for Problem3 0.7240391334730958\n"
     ]
    }
   ],
   "source": [
    "cv_results = cross_validate(classifier2, X, Y, cv = 5, groups = None, scoring = validationMetrics)\n",
    "cv_results\n",
    "\n",
    "#Scores for k-fold with k=5\n",
    "print(\"K-fold with k=5\")\n",
    "print('Accuracy', np.mean(cv_results['test_accuracy']))\n",
    "print('Precision', np.mean(cv_results['test_precision']))\n",
    "print('Recall', np.mean(cv_results['test_recall']))\n",
    "print()\n",
    "print()\n",
    "#Comparing results with Problem 1\n",
    "print(\"Accuracy for Problem1\", Prob1Accuracy, \"compared to the Accuracy for Problem3\", np.mean(cv_results['test_accuracy']))\n",
    "print(\"Precision for Problem1\", Prob1Precision, \"compared to the Precision for Problem3\", np.mean(cv_results['test_precision']))\n",
    "print(\"Recall for Problem1\", Prob1Recall, \"compared to the Recall for Problem3\", np.mean(cv_results['test_recall']))"
   ]
  },
  {
   "cell_type": "code",
   "execution_count": 17,
   "id": "3eb8bc79-0c5b-4c81-9a82-785be04a6e0d",
   "metadata": {},
   "outputs": [
    {
     "name": "stdout",
     "output_type": "stream",
     "text": [
      "K-fold with k=10\n",
      "Accuracy 0.7526486671223513\n",
      "Precision 0.6302807633751739\n",
      "Recall 0.7276353276353277\n",
      "\n",
      "\n",
      "Accuracy for Problem1 0.7532467532467533 compared to the Accuracy for Problem3 0.7526486671223513\n",
      "Precision for Problem1 0.6491228070175439 compared to the Precision for Problem3 0.6302807633751739\n",
      "Recall for Problem1 0.6727272727272727 compared to the Recall for Problem3 0.7276353276353277\n"
     ]
    }
   ],
   "source": [
    "cv2_results = cross_validate(classifier2, X, Y, cv = 10, groups = None, scoring = validationMetrics)\n",
    "cv2_results\n",
    "\n",
    "#Scores for k-fold with k=10\n",
    "print(\"K-fold with k=10\")\n",
    "print('Accuracy', np.mean(cv2_results['test_accuracy']))\n",
    "print('Precision', np.mean(cv2_results['test_precision']))\n",
    "print('Recall', np.mean(cv2_results['test_recall']))\n",
    "print()\n",
    "print()\n",
    "#Comparing the results from Problem 1 with Problem 3\n",
    "print(\"Accuracy for Problem1\", Prob1Accuracy, \"compared to the Accuracy for Problem3\", np.mean(cv2_results['test_accuracy']))\n",
    "print(\"Precision for Problem1\", Prob1Precision, \"compared to the Precision for Problem3\", np.mean(cv2_results['test_precision']))\n",
    "print(\"Recall for Problem1\", Prob1Recall, \"compared to the Recall for Problem3\", np.mean(cv2_results['test_recall']))"
   ]
  },
  {
   "cell_type": "code",
   "execution_count": 18,
   "id": "069453fc-c1c4-4d65-b325-a4dfd0313cb5",
   "metadata": {},
   "outputs": [
    {
     "name": "stdout",
     "output_type": "stream",
     "text": [
      "Accuracy for Problem4: 0.7526610644257703\n",
      "Precision for Problem4: 0.6617771412984179\n",
      "Recall for Problem4: 0.6015088469035839\n"
     ]
    }
   ],
   "source": [
    "#Problem 4\n",
    "#Using K-fold cross validation on Naive-Bayes\n",
    "\n",
    "\n",
    "\n",
    "accuracy = []\n",
    "precision = []\n",
    "recall = []\n",
    "\n",
    "kf = KFold(n_splits=5, random_state=None, shuffle=False)\n",
    "for train_index, test_index in kf.split(X):\n",
    "    #Splitting the Inputs\n",
    "    X_train, X_test = X[train_index], X[test_index]\n",
    "    #Splitting the outputs\n",
    "    Y_train, Y_test = Y[train_index], Y[test_index]\n",
    "    classifier = GaussianNB() \n",
    "    classifier.fit(X_train, Y_train)\n",
    "    Y2_pred  =  classifier.predict(X_test) \n",
    "    #Storing the metrics to be calculated later\n",
    "    accuracy.append(metrics.accuracy_score(Y_test, Y2_pred))\n",
    "    precision.append(metrics.precision_score(Y_test, Y2_pred))\n",
    "    recall.append(metrics.recall_score(Y_test, Y2_pred))\n",
    "    \n",
    "    \n",
    "print(\"Accuracy for Problem4:\",np.mean(accuracy)) \n",
    "print(\"Precision for Problem4:\",np.mean(precision)) \n",
    "print(\"Recall for Problem4:\",np.mean(recall)) "
   ]
  },
  {
   "cell_type": "code",
   "execution_count": null,
   "id": "ad9ded53-c196-4efd-b39d-d05aa4eae124",
   "metadata": {},
   "outputs": [],
   "source": []
  }
 ],
 "metadata": {
  "kernelspec": {
   "display_name": "Python 3",
   "language": "python",
   "name": "python3"
  },
  "language_info": {
   "codemirror_mode": {
    "name": "ipython",
    "version": 3
   },
   "file_extension": ".py",
   "mimetype": "text/x-python",
   "name": "python",
   "nbconvert_exporter": "python",
   "pygments_lexer": "ipython3",
   "version": "3.8.8"
  }
 },
 "nbformat": 4,
 "nbformat_minor": 5
}
