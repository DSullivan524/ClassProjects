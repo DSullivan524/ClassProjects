{
 "cells": [
  {
   "cell_type": "code",
   "execution_count": 1,
   "id": "891644a7-d7d8-45c4-9553-3b25fc2ace7b",
   "metadata": {},
   "outputs": [
    {
     "name": "stderr",
     "output_type": "stream",
     "text": [
      "C:\\Users\\rando\\anaconda3\\lib\\site-packages\\torchvision\\io\\image.py:11: UserWarning: Failed to load image Python extension: Could not find module 'C:\\Users\\rando\\anaconda3\\Lib\\site-packages\\torchvision\\image.pyd' (or one of its dependencies). Try using the full path with constructor syntax.\n",
      "  warn(f\"Failed to load image Python extension: {e}\")\n"
     ]
    }
   ],
   "source": [
    "import numpy as np\n",
    "import torch\n",
    "from torchvision import transforms\n",
    "from PIL import Image\n",
    "torch.set_printoptions(edgeitems=2, threshold=50)"
   ]
  },
  {
   "cell_type": "code",
   "execution_count": 2,
   "id": "04657a42-7178-4e0b-9615-b1bafc41618f",
   "metadata": {},
   "outputs": [],
   "source": [
    "#Problem 1"
   ]
  },
  {
   "cell_type": "code",
   "execution_count": 3,
   "id": "b9224028-48aa-4326-be8c-cf674caadab4",
   "metadata": {},
   "outputs": [
    {
     "name": "stdout",
     "output_type": "stream",
     "text": [
      "blueFlower.jpg\n",
      "Butterfly.jpg\n",
      "Leaf.jpg\n",
      "redCar.jpg\n",
      "rose.jpg\n",
      "watermelon.jpg\n"
     ]
    }
   ],
   "source": [
    "\n",
    "import imageio\n",
    "import os\n",
    "\n",
    "allImage = []\n",
    "tensorTransform = transforms.ToTensor()\n",
    "\n",
    "data_dir = 'C:/Users/rando/Desktop/Real Time ML/HW1'\n",
    "filenames = [name for name in os.listdir(data_dir)\n",
    "             if os.path.splitext(name)[-1] == '.jpg']\n",
    "for i, filename in enumerate(filenames):\n",
    "    img_arr = imageio.imread(os.path.join(data_dir, filename))\n",
    "    print(filename)\n",
    "    img_t = tensorTransform(img_arr)\n",
    "    allImage.append(img_t)"
   ]
  },
  {
   "cell_type": "code",
   "execution_count": 4,
   "id": "bfc3c2c5-b1c2-4ba6-9328-c242bb1ac61c",
   "metadata": {},
   "outputs": [],
   "source": [
    "allMeans = []\n",
    "\n",
    "for i in allImage:\n",
    "    allMeans.append(torch.mean(i, dim = [1,2]))"
   ]
  },
  {
   "cell_type": "code",
   "execution_count": 5,
   "id": "5e9171ef-615f-4646-8e68-f4fa0433deb3",
   "metadata": {},
   "outputs": [
    {
     "data": {
      "text/plain": [
       "[tensor([0.3147, 0.2865, 0.6514]),\n",
       " tensor([0.6820, 0.7546, 0.8338]),\n",
       " tensor([0.5605, 0.9004, 0.5297]),\n",
       " tensor([0.3722, 0.2652, 0.2559]),\n",
       " tensor([0.4257, 0.1407, 0.1347]),\n",
       " tensor([0.4855, 0.6238, 0.5233])]"
      ]
     },
     "execution_count": 5,
     "metadata": {},
     "output_type": "execute_result"
    }
   ],
   "source": [
    "allMeans"
   ]
  },
  {
   "cell_type": "code",
   "execution_count": 6,
   "id": "3f6639f4-b291-4da5-9d9d-5c6ac645546f",
   "metadata": {},
   "outputs": [],
   "source": [
    "# Problem 2"
   ]
  },
  {
   "cell_type": "code",
   "execution_count": 7,
   "id": "54ff69d1-8e96-4fba-9f96-a4fb86bab3ea",
   "metadata": {},
   "outputs": [],
   "source": [
    "t_c = [0.5, 14.0, 15.0, 28.0, 11.0, 8.0, 3.0, -4.0, 6.0, 13.0, 21.0]\n",
    "t_u = [35.7, 55.9, 58.2, 81.9, 56.3, 48.9, 33.9, 21.8, 48.4, 60.4, 68.4]\n",
    "t_c = torch.tensor(t_c)\n",
    "t_u = torch.tensor(t_u)"
   ]
  },
  {
   "cell_type": "code",
   "execution_count": 8,
   "id": "6c117de5-b6e7-444b-93a8-553573255608",
   "metadata": {},
   "outputs": [],
   "source": [
    "def model(t_u, w2, w1, b):\n",
    "    return w2 * t_u ** 2 + w1 * t_u + b"
   ]
  },
  {
   "cell_type": "code",
   "execution_count": 9,
   "id": "f800c75d-6ebb-475a-a9aa-16549b0c0382",
   "metadata": {},
   "outputs": [],
   "source": [
    "def loss_fn(t_p, t_c):\n",
    "    squared_diffs = (t_p - t_c)**2\n",
    "    return squared_diffs.mean()"
   ]
  },
  {
   "cell_type": "code",
   "execution_count": 10,
   "id": "8839ffa3-b233-4c90-86bb-ba1b385c2aa9",
   "metadata": {},
   "outputs": [
    {
     "data": {
      "text/plain": [
       "tensor([1310.1901, 3180.7100, 3445.4399, 6789.5103, 3225.9900, 2440.1101,\n",
       "        1183.1101,  497.0399, 2390.9600, 3708.5601, 4746.9600])"
      ]
     },
     "execution_count": 10,
     "metadata": {},
     "output_type": "execute_result"
    }
   ],
   "source": [
    "w2 = torch.ones(())\n",
    "w1 = torch.ones(())\n",
    "b = torch.zeros(()) \n",
    "t_p = model(t_u, w2, w1, b)\n",
    "t_p"
   ]
  },
  {
   "cell_type": "code",
   "execution_count": 11,
   "id": "86508886-c18f-4ba8-a5cd-58901014d450",
   "metadata": {},
   "outputs": [
    {
     "data": {
      "text/plain": [
       "tensor(11709471.)"
      ]
     },
     "execution_count": 11,
     "metadata": {},
     "output_type": "execute_result"
    }
   ],
   "source": [
    "loss = loss_fn(t_p, t_c)\n",
    "loss"
   ]
  },
  {
   "cell_type": "code",
   "execution_count": 12,
   "id": "fc6a8ec5-58cf-424f-96a4-f143147e94cc",
   "metadata": {},
   "outputs": [],
   "source": [
    "def dloss_fn(t_p, t_c):\n",
    "    dsq_diffs = 2 * (t_p - t_c) / t_p.size(0)\n",
    "    return dsq_diffs"
   ]
  },
  {
   "cell_type": "code",
   "execution_count": 13,
   "id": "98564152-e1dd-49cf-8ce1-2183c9faf507",
   "metadata": {},
   "outputs": [],
   "source": [
    "def dmodel_dw2(t_u, w2, w1, b):\n",
    "    return t_u ** 2"
   ]
  },
  {
   "cell_type": "code",
   "execution_count": 14,
   "id": "409b9f6b-7d84-4231-91d3-b274d2a212d3",
   "metadata": {},
   "outputs": [],
   "source": [
    "def dmodel_dw1(t_u, w2, w1, b):\n",
    "    return t_u"
   ]
  },
  {
   "cell_type": "code",
   "execution_count": 15,
   "id": "74a4227c-c802-4022-96f4-0294ceef7e71",
   "metadata": {},
   "outputs": [],
   "source": [
    "def dmodel_db(t_u, w2, w1, b):\n",
    "    return 1.0"
   ]
  },
  {
   "cell_type": "code",
   "execution_count": 16,
   "id": "30a77f67-0cdd-4180-bed1-cf40b81731bb",
   "metadata": {},
   "outputs": [],
   "source": [
    "def grad_fn(t_u, t_c, t_p, w2, w1, b):\n",
    "    dloss_tdp = dloss_fn(t_p, t_c)\n",
    "    dloss_dw2 = dloss_tdp * dmodel_dw2(t_u, w2, w1, b)\n",
    "    dloss_dw1 = dloss_tdp * dmodel_dw1(t_u, w2, w1, b)\n",
    "    dloss_db = dloss_tdp * dmodel_db(t_u, w2, w1, b)\n",
    "    return torch.stack([dloss_dw2.sum(), dloss_dw1.sum(), dloss_db.sum()])"
   ]
  },
  {
   "cell_type": "code",
   "execution_count": 17,
   "id": "506e02ed-a8be-4053-b16a-acdb173bcba5",
   "metadata": {},
   "outputs": [],
   "source": [
    "def training_loop(n_epochs, learning_rate, params, t_u, t_c):\n",
    "    for epoch in range(1, n_epochs + 1):\n",
    "        w2, w1, b = params\n",
    "        \n",
    "        t_p = model(t_u, w2, w1, b)\n",
    "        loss = loss_fn(t_p, t_c)\n",
    "        grad = grad_fn(t_u, t_c, t_p, w2, w1, b)\n",
    "        \n",
    "        params = params - learning_rate * grad\n",
    "        \n",
    "        if (epoch % 500) == 0:\n",
    "            print('Epoch %d, Loss %f' % (epoch, float(loss)))\n",
    "              \n",
    "    return params"
   ]
  },
  {
   "cell_type": "code",
   "execution_count": 18,
   "id": "b72249ab-0045-42be-83c7-2adaab445fe4",
   "metadata": {},
   "outputs": [
    {
     "name": "stdout",
     "output_type": "stream",
     "text": [
      "Epoch 500, Loss 10.708597\n",
      "Epoch 1000, Loss 8.642083\n",
      "Epoch 1500, Loss 7.171005\n",
      "Epoch 2000, Loss 6.123476\n",
      "Epoch 2500, Loss 5.377228\n",
      "Epoch 3000, Loss 4.845286\n",
      "Epoch 3500, Loss 4.465787\n",
      "Epoch 4000, Loss 4.194724\n",
      "Epoch 4500, Loss 4.000802\n",
      "Epoch 5000, Loss 3.861744\n"
     ]
    }
   ],
   "source": [
    "t_un = t_u *0.1\n",
    "params = training_loop(5000, 0.0001, torch.tensor([1.0, 1.0, 0.0]), t_un, t_c)"
   ]
  },
  {
   "cell_type": "code",
   "execution_count": 19,
   "id": "92f98744-66de-4628-b98f-cf5132f27f30",
   "metadata": {},
   "outputs": [
    {
     "data": {
      "text/plain": [
       "[<matplotlib.lines.Line2D at 0x214ca911fa0>]"
      ]
     },
     "execution_count": 19,
     "metadata": {},
     "output_type": "execute_result"
    },
    {
     "data": {
      "image/png": "[encoded data removed]",
      "text/plain": [
       "<Figure size 900x600 with 1 Axes>"
      ]
     },
     "metadata": {
      "needs_background": "light"
     },
     "output_type": "display_data"
    }
   ],
   "source": [
    "from matplotlib import pyplot as plt\n",
    "\n",
    "t_p = model(t_un, *params)\n",
    "\n",
    "fig = plt.figure(dpi=150)\n",
    "plt.xlabel(\"Temperature (Fahrenheit)\")\n",
    "plt.ylabel(\"Temperature (Celsius)\")\n",
    "plt.plot(t_u.numpy(), t_p.detach().numpy())\n",
    "plt.plot(t_u.numpy(), t_c.numpy(), 'o')"
   ]
  },
  {
   "cell_type": "code",
   "execution_count": 20,
   "id": "61f05d49-5254-4698-b3d8-117d7786beef",
   "metadata": {},
   "outputs": [],
   "source": [
    "#Problem 3"
   ]
  },
  {
   "cell_type": "code",
   "execution_count": 21,
   "id": "458189c6-0231-4c34-b1dc-71085cf56943",
   "metadata": {},
   "outputs": [
    {
     "data": {
      "text/html": [
       "<div>\n",
       "<style scoped>\n",
       "    .dataframe tbody tr th:only-of-type {\n",
       "        vertical-align: middle;\n",
       "    }\n",
       "\n",
       "    .dataframe tbody tr th {\n",
       "        vertical-align: top;\n",
       "    }\n",
       "\n",
       "    .dataframe thead th {\n",
       "        text-align: right;\n",
       "    }\n",
       "</style>\n",
       "<table border=\"1\" class=\"dataframe\">\n",
       "  <thead>\n",
       "    <tr style=\"text-align: right;\">\n",
       "      <th></th>\n",
       "      <th>price</th>\n",
       "      <th>area</th>\n",
       "      <th>bedrooms</th>\n",
       "      <th>bathrooms</th>\n",
       "      <th>stories</th>\n",
       "      <th>mainroad</th>\n",
       "      <th>guestroom</th>\n",
       "      <th>basement</th>\n",
       "      <th>hotwaterheating</th>\n",
       "      <th>airconditioning</th>\n",
       "      <th>parking</th>\n",
       "      <th>prefarea</th>\n",
       "      <th>furnishingstatus</th>\n",
       "    </tr>\n",
       "  </thead>\n",
       "  <tbody>\n",
       "    <tr>\n",
       "      <th>0</th>\n",
       "      <td>13300000</td>\n",
       "      <td>7420</td>\n",
       "      <td>4</td>\n",
       "      <td>2</td>\n",
       "      <td>3</td>\n",
       "      <td>yes</td>\n",
       "      <td>no</td>\n",
       "      <td>no</td>\n",
       "      <td>no</td>\n",
       "      <td>yes</td>\n",
       "      <td>2</td>\n",
       "      <td>yes</td>\n",
       "      <td>furnished</td>\n",
       "    </tr>\n",
       "    <tr>\n",
       "      <th>1</th>\n",
       "      <td>12250000</td>\n",
       "      <td>8960</td>\n",
       "      <td>4</td>\n",
       "      <td>4</td>\n",
       "      <td>4</td>\n",
       "      <td>yes</td>\n",
       "      <td>no</td>\n",
       "      <td>no</td>\n",
       "      <td>no</td>\n",
       "      <td>yes</td>\n",
       "      <td>3</td>\n",
       "      <td>no</td>\n",
       "      <td>furnished</td>\n",
       "    </tr>\n",
       "    <tr>\n",
       "      <th>2</th>\n",
       "      <td>12250000</td>\n",
       "      <td>9960</td>\n",
       "      <td>3</td>\n",
       "      <td>2</td>\n",
       "      <td>2</td>\n",
       "      <td>yes</td>\n",
       "      <td>no</td>\n",
       "      <td>yes</td>\n",
       "      <td>no</td>\n",
       "      <td>no</td>\n",
       "      <td>2</td>\n",
       "      <td>yes</td>\n",
       "      <td>semi-furnished</td>\n",
       "    </tr>\n",
       "    <tr>\n",
       "      <th>3</th>\n",
       "      <td>12215000</td>\n",
       "      <td>7500</td>\n",
       "      <td>4</td>\n",
       "      <td>2</td>\n",
       "      <td>2</td>\n",
       "      <td>yes</td>\n",
       "      <td>no</td>\n",
       "      <td>yes</td>\n",
       "      <td>no</td>\n",
       "      <td>yes</td>\n",
       "      <td>3</td>\n",
       "      <td>yes</td>\n",
       "      <td>furnished</td>\n",
       "    </tr>\n",
       "    <tr>\n",
       "      <th>4</th>\n",
       "      <td>11410000</td>\n",
       "      <td>7420</td>\n",
       "      <td>4</td>\n",
       "      <td>1</td>\n",
       "      <td>2</td>\n",
       "      <td>yes</td>\n",
       "      <td>yes</td>\n",
       "      <td>yes</td>\n",
       "      <td>no</td>\n",
       "      <td>yes</td>\n",
       "      <td>2</td>\n",
       "      <td>no</td>\n",
       "      <td>furnished</td>\n",
       "    </tr>\n",
       "  </tbody>\n",
       "</table>\n",
       "</div>"
      ],
      "text/plain": [
       "      price  area  bedrooms  bathrooms  stories mainroad guestroom basement  \\\n",
       "0  13300000  7420         4          2        3      yes        no       no   \n",
       "1  12250000  8960         4          4        4      yes        no       no   \n",
       "2  12250000  9960         3          2        2      yes        no      yes   \n",
       "3  12215000  7500         4          2        2      yes        no      yes   \n",
       "4  11410000  7420         4          1        2      yes       yes      yes   \n",
       "\n",
       "  hotwaterheating airconditioning  parking prefarea furnishingstatus  \n",
       "0              no             yes        2      yes        furnished  \n",
       "1              no             yes        3       no        furnished  \n",
       "2              no              no        2      yes   semi-furnished  \n",
       "3              no             yes        3      yes        furnished  \n",
       "4              no             yes        2       no        furnished  "
      ]
     },
     "execution_count": 21,
     "metadata": {},
     "output_type": "execute_result"
    }
   ],
   "source": [
    "import pandas as pd\n",
    "import torch.optim as optim\n",
    "\n",
    "\n",
    "housing = pd.DataFrame(pd.read_csv(\"Housing.csv\")) \n",
    "housing.head() "
   ]
  },
  {
   "cell_type": "code",
   "execution_count": 22,
   "id": "fad60a59-6bb1-49bf-ac99-81b0bea0fbbb",
   "metadata": {},
   "outputs": [
    {
     "data": {
      "text/html": [
       "<div>\n",
       "<style scoped>\n",
       "    .dataframe tbody tr th:only-of-type {\n",
       "        vertical-align: middle;\n",
       "    }\n",
       "\n",
       "    .dataframe tbody tr th {\n",
       "        vertical-align: top;\n",
       "    }\n",
       "\n",
       "    .dataframe thead th {\n",
       "        text-align: right;\n",
       "    }\n",
       "</style>\n",
       "<table border=\"1\" class=\"dataframe\">\n",
       "  <thead>\n",
       "    <tr style=\"text-align: right;\">\n",
       "      <th></th>\n",
       "      <th>area</th>\n",
       "      <th>bedrooms</th>\n",
       "      <th>bathrooms</th>\n",
       "      <th>stories</th>\n",
       "      <th>parking</th>\n",
       "      <th>price</th>\n",
       "    </tr>\n",
       "  </thead>\n",
       "  <tbody>\n",
       "    <tr>\n",
       "      <th>0</th>\n",
       "      <td>7420</td>\n",
       "      <td>4</td>\n",
       "      <td>2</td>\n",
       "      <td>3</td>\n",
       "      <td>2</td>\n",
       "      <td>13300000</td>\n",
       "    </tr>\n",
       "    <tr>\n",
       "      <th>1</th>\n",
       "      <td>8960</td>\n",
       "      <td>4</td>\n",
       "      <td>4</td>\n",
       "      <td>4</td>\n",
       "      <td>3</td>\n",
       "      <td>12250000</td>\n",
       "    </tr>\n",
       "    <tr>\n",
       "      <th>2</th>\n",
       "      <td>9960</td>\n",
       "      <td>3</td>\n",
       "      <td>2</td>\n",
       "      <td>2</td>\n",
       "      <td>2</td>\n",
       "      <td>12250000</td>\n",
       "    </tr>\n",
       "    <tr>\n",
       "      <th>3</th>\n",
       "      <td>7500</td>\n",
       "      <td>4</td>\n",
       "      <td>2</td>\n",
       "      <td>2</td>\n",
       "      <td>3</td>\n",
       "      <td>12215000</td>\n",
       "    </tr>\n",
       "    <tr>\n",
       "      <th>4</th>\n",
       "      <td>7420</td>\n",
       "      <td>4</td>\n",
       "      <td>1</td>\n",
       "      <td>2</td>\n",
       "      <td>2</td>\n",
       "      <td>11410000</td>\n",
       "    </tr>\n",
       "  </tbody>\n",
       "</table>\n",
       "</div>"
      ],
      "text/plain": [
       "   area  bedrooms  bathrooms  stories  parking     price\n",
       "0  7420         4          2        3        2  13300000\n",
       "1  8960         4          4        4        3  12250000\n",
       "2  9960         3          2        2        2  12250000\n",
       "3  7500         4          2        2        3  12215000\n",
       "4  7420         4          1        2        2  11410000"
      ]
     },
     "execution_count": 22,
     "metadata": {},
     "output_type": "execute_result"
    }
   ],
   "source": [
    "num_vars = ['area', 'bedrooms', 'bathrooms', 'stories', 'parking','price'] \n",
    "Newtrain = housing[num_vars] \n",
    "Newtrain.head() "
   ]
  },
  {
   "cell_type": "code",
   "execution_count": 23,
   "id": "b574f20b-e89d-4c1c-905c-a6588705ad23",
   "metadata": {},
   "outputs": [],
   "source": [
    "numpyArray = Newtrain.to_numpy()\n",
    "inputArray = numpyArray[:, 0:5]\n",
    "outputArray = numpyArray[:, 5]\n",
    "\n",
    "inputTorch = torch.tensor(inputArray)\n",
    "outputTorch = torch.tensor(outputArray)\n",
    "inputTorch_n = 0.1 * inputTorch\n",
    "outputTorch_n = 0.1 * outputTorch"
   ]
  },
  {
   "cell_type": "code",
   "execution_count": 24,
   "id": "ab6a7954-c822-422c-8f73-7ec631b9648e",
   "metadata": {},
   "outputs": [],
   "source": [
    "def modelHousing(area, bedrooms, bathrooms, stories, parking, w5, w4, w3, w2, w1, b):\n",
    "    return area * w5 + bedrooms * w4 + bathrooms * w3 + stories * w2 + parking * w1 + b"
   ]
  },
  {
   "cell_type": "code",
   "execution_count": 25,
   "id": "c202a7fc-c78e-4e1a-ad96-e5612a4479b6",
   "metadata": {},
   "outputs": [],
   "source": [
    "def lossHousing(prediction, output):\n",
    "    squared_diffs = (prediction - output)**2\n",
    "    return squared_diffs.mean()"
   ]
  },
  {
   "cell_type": "code",
   "execution_count": 26,
   "id": "ec3cb4c2-b5a9-426c-b180-34e9fc7c993b",
   "metadata": {},
   "outputs": [],
   "source": [
    "params = torch.tensor([1.0, 1.0, 1.0, 1.0, 1.0, 0.0], requires_grad=True)\n",
    "learningRate = 0.000003\n",
    "optimizer = optim.SGD([params], lr = learningRate)"
   ]
  },
  {
   "cell_type": "code",
   "execution_count": 27,
   "id": "5841924d-0acf-492e-b9f4-3eed9241937c",
   "metadata": {},
   "outputs": [],
   "source": [
    "loss = lossHousing(modelHousing(inputTorch_n[:,0],inputTorch_n[:,1],inputTorch_n[:,2],inputTorch_n[:,3],inputTorch_n[:,4], *params), outputTorch)\n",
    "loss.backward()\n",
    "optimizer.step()"
   ]
  },
  {
   "cell_type": "code",
   "execution_count": 28,
   "id": "d9dc67e7-ae20-4fd8-8e3f-0a109798bc1b",
   "metadata": {},
   "outputs": [],
   "source": [
    "def housingLoop(numEpochs, optimizer, params, inputTorch, outputTorch):\n",
    "    for epoch in range(1, numEpochs + 1):\n",
    "        t_p = modelHousing(inputTorch_n[:,0],inputTorch_n[:,1],inputTorch_n[:,2],inputTorch_n[:,3],inputTorch_n[:,4], *params)\n",
    "        loss = lossHousing(t_p, outputTorch)\n",
    "        \n",
    "        optimizer.zero_grad()\n",
    "        loss.backward()\n",
    "        optimizer.step()\n",
    "            \n",
    "        if epoch % 500 == 0:\n",
    "            print('Epoch %d, Loss %f' % (epoch, float(loss)))\n",
    "            \n",
    "    return params"
   ]
  },
  {
   "cell_type": "code",
   "execution_count": 29,
   "id": "dcbf5a80-3083-4753-a443-180e4ae5bbc8",
   "metadata": {},
   "outputs": [
    {
     "name": "stdout",
     "output_type": "stream",
     "text": [
      "Epoch 500, Loss 3345738629120.000000\n",
      "Epoch 1000, Loss 3344727801856.000000\n",
      "Epoch 1500, Loss 3343717498880.000000\n",
      "Epoch 2000, Loss 3342707982336.000000\n",
      "Epoch 2500, Loss 3341699252224.000000\n",
      "Epoch 3000, Loss 3340691832832.000000\n",
      "Epoch 3500, Loss 3339685199872.000000\n",
      "Epoch 4000, Loss 3338680139776.000000\n",
      "Epoch 4500, Loss 3337675603968.000000\n",
      "Epoch 5000, Loss 3336672116736.000000\n"
     ]
    },
    {
     "data": {
      "text/plain": [
       "tensor([ 8535.5977,  4086.2283,  2301.7175,  3584.4766,   913.8885, 10768.3008],\n",
       "       requires_grad=True)"
      ]
     },
     "execution_count": 29,
     "metadata": {},
     "output_type": "execute_result"
    }
   ],
   "source": [
    "housingLoop(5000, optimizer, params, inputTorch_n, outputTorch)"
   ]
  },
  {
   "cell_type": "code",
   "execution_count": 30,
   "id": "88965b3c-78d7-4f75-b7cf-1feef1648524",
   "metadata": {},
   "outputs": [
    {
     "data": {
      "text/plain": [
       "[<matplotlib.lines.Line2D at 0x214caa267f0>,\n",
       " <matplotlib.lines.Line2D at 0x214caa268b0>,\n",
       " <matplotlib.lines.Line2D at 0x214caa269d0>,\n",
       " <matplotlib.lines.Line2D at 0x214caa26af0>,\n",
       " <matplotlib.lines.Line2D at 0x214caa26c10>]"
      ]
     },
     "execution_count": 30,
     "metadata": {},
     "output_type": "execute_result"
    },
    {
     "data": {
      "image/png": "[encoded data removed]",
      "text/plain": [
       "<Figure size 900x600 with 1 Axes>"
      ]
     },
     "metadata": {
      "needs_background": "light"
     },
     "output_type": "display_data"
    }
   ],
   "source": [
    "t_p = modelHousing(inputTorch_n[:,0],inputTorch_n[:,1],inputTorch_n[:,2],inputTorch_n[:,3],inputTorch_n[:,4], *params)\n",
    "\n",
    "fig = plt.figure(dpi=150)\n",
    "plt.xlabel(\"Input\")\n",
    "plt.ylabel(\"Output\")\n",
    "plt.plot(inputTorch.numpy(), t_p.detach().numpy())\n",
    "plt.plot(inputTorch.numpy(), outputTorch.numpy(), 'o')"
   ]
  },
  {
   "cell_type": "code",
   "execution_count": null,
   "id": "97371298-5a6b-437b-a8ee-7bc887c44018",
   "metadata": {},
   "outputs": [],
   "source": []
  }
 ],
 "metadata": {
  "kernelspec": {
   "display_name": "Python 3 (ipykernel)",
   "language": "python",
   "name": "python3"
  },
  "language_info": {
   "codemirror_mode": {
    "name": "ipython",
    "version": 3
   },
   "file_extension": ".py",
   "mimetype": "text/x-python",
   "name": "python",
   "nbconvert_exporter": "python",
   "pygments_lexer": "ipython3",
   "version": "3.9.7"
  }
 },
 "nbformat": 4,
 "nbformat_minor": 5
}
