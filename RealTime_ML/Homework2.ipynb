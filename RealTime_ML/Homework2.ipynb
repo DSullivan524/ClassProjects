{
 "cells": [
  {
   "cell_type": "code",
   "execution_count": 1,
   "id": "ef9dbed4-c019-466f-987f-79f484c1a1ac",
   "metadata": {},
   "outputs": [
    {
     "name": "stderr",
     "output_type": "stream",
     "text": [
      "C:\\Users\\rando\\anaconda3\\lib\\site-packages\\torchvision\\io\\image.py:11: UserWarning: Failed to load image Python extension: Could not find module 'C:\\Users\\rando\\anaconda3\\Lib\\site-packages\\torchvision\\image.pyd' (or one of its dependencies). Try using the full path with constructor syntax.\n",
      "  warn(f\"Failed to load image Python extension: {e}\")\n"
     ]
    },
    {
     "data": {
      "text/plain": [
       "True"
      ]
     },
     "execution_count": 1,
     "metadata": {},
     "output_type": "execute_result"
    }
   ],
   "source": [
    "import numpy as np\n",
    "import torch\n",
    "from torchvision import transforms\n",
    "from PIL import Image\n",
    "import torch.nn as nn\n",
    "from matplotlib import pyplot as plt\n",
    "torch.cuda.is_available()\n",
    "#Daniel Sullivan\n",
    "#801095863"
   ]
  },
  {
   "cell_type": "code",
   "execution_count": 2,
   "id": "caa02ec4-f449-43b1-908b-ee311adf5481",
   "metadata": {},
   "outputs": [
    {
     "data": {
      "text/html": [
       "<div>\n",
       "<style scoped>\n",
       "    .dataframe tbody tr th:only-of-type {\n",
       "        vertical-align: middle;\n",
       "    }\n",
       "\n",
       "    .dataframe tbody tr th {\n",
       "        vertical-align: top;\n",
       "    }\n",
       "\n",
       "    .dataframe thead th {\n",
       "        text-align: right;\n",
       "    }\n",
       "</style>\n",
       "<table border=\"1\" class=\"dataframe\">\n",
       "  <thead>\n",
       "    <tr style=\"text-align: right;\">\n",
       "      <th></th>\n",
       "      <th>price</th>\n",
       "      <th>area</th>\n",
       "      <th>bedrooms</th>\n",
       "      <th>bathrooms</th>\n",
       "      <th>stories</th>\n",
       "      <th>mainroad</th>\n",
       "      <th>guestroom</th>\n",
       "      <th>basement</th>\n",
       "      <th>hotwaterheating</th>\n",
       "      <th>airconditioning</th>\n",
       "      <th>parking</th>\n",
       "      <th>prefarea</th>\n",
       "      <th>furnishingstatus</th>\n",
       "    </tr>\n",
       "  </thead>\n",
       "  <tbody>\n",
       "    <tr>\n",
       "      <th>0</th>\n",
       "      <td>13300000</td>\n",
       "      <td>7420</td>\n",
       "      <td>4</td>\n",
       "      <td>2</td>\n",
       "      <td>3</td>\n",
       "      <td>yes</td>\n",
       "      <td>no</td>\n",
       "      <td>no</td>\n",
       "      <td>no</td>\n",
       "      <td>yes</td>\n",
       "      <td>2</td>\n",
       "      <td>yes</td>\n",
       "      <td>furnished</td>\n",
       "    </tr>\n",
       "    <tr>\n",
       "      <th>1</th>\n",
       "      <td>12250000</td>\n",
       "      <td>8960</td>\n",
       "      <td>4</td>\n",
       "      <td>4</td>\n",
       "      <td>4</td>\n",
       "      <td>yes</td>\n",
       "      <td>no</td>\n",
       "      <td>no</td>\n",
       "      <td>no</td>\n",
       "      <td>yes</td>\n",
       "      <td>3</td>\n",
       "      <td>no</td>\n",
       "      <td>furnished</td>\n",
       "    </tr>\n",
       "    <tr>\n",
       "      <th>2</th>\n",
       "      <td>12250000</td>\n",
       "      <td>9960</td>\n",
       "      <td>3</td>\n",
       "      <td>2</td>\n",
       "      <td>2</td>\n",
       "      <td>yes</td>\n",
       "      <td>no</td>\n",
       "      <td>yes</td>\n",
       "      <td>no</td>\n",
       "      <td>no</td>\n",
       "      <td>2</td>\n",
       "      <td>yes</td>\n",
       "      <td>semi-furnished</td>\n",
       "    </tr>\n",
       "    <tr>\n",
       "      <th>3</th>\n",
       "      <td>12215000</td>\n",
       "      <td>7500</td>\n",
       "      <td>4</td>\n",
       "      <td>2</td>\n",
       "      <td>2</td>\n",
       "      <td>yes</td>\n",
       "      <td>no</td>\n",
       "      <td>yes</td>\n",
       "      <td>no</td>\n",
       "      <td>yes</td>\n",
       "      <td>3</td>\n",
       "      <td>yes</td>\n",
       "      <td>furnished</td>\n",
       "    </tr>\n",
       "    <tr>\n",
       "      <th>4</th>\n",
       "      <td>11410000</td>\n",
       "      <td>7420</td>\n",
       "      <td>4</td>\n",
       "      <td>1</td>\n",
       "      <td>2</td>\n",
       "      <td>yes</td>\n",
       "      <td>yes</td>\n",
       "      <td>yes</td>\n",
       "      <td>no</td>\n",
       "      <td>yes</td>\n",
       "      <td>2</td>\n",
       "      <td>no</td>\n",
       "      <td>furnished</td>\n",
       "    </tr>\n",
       "  </tbody>\n",
       "</table>\n",
       "</div>"
      ],
      "text/plain": [
       "      price  area  bedrooms  bathrooms  stories mainroad guestroom basement  \\\n",
       "0  13300000  7420         4          2        3      yes        no       no   \n",
       "1  12250000  8960         4          4        4      yes        no       no   \n",
       "2  12250000  9960         3          2        2      yes        no      yes   \n",
       "3  12215000  7500         4          2        2      yes        no      yes   \n",
       "4  11410000  7420         4          1        2      yes       yes      yes   \n",
       "\n",
       "  hotwaterheating airconditioning  parking prefarea furnishingstatus  \n",
       "0              no             yes        2      yes        furnished  \n",
       "1              no             yes        3       no        furnished  \n",
       "2              no              no        2      yes   semi-furnished  \n",
       "3              no             yes        3      yes        furnished  \n",
       "4              no             yes        2       no        furnished  "
      ]
     },
     "execution_count": 2,
     "metadata": {},
     "output_type": "execute_result"
    }
   ],
   "source": [
    "import pandas as pd\n",
    "import torch.optim as optim\n",
    "\n",
    "\n",
    "housing = pd.DataFrame(pd.read_csv(\"Housing.csv\")) \n",
    "housing.head() "
   ]
  },
  {
   "cell_type": "code",
   "execution_count": 3,
   "id": "6191a92d-5fa9-465f-b7fa-3ca554363ae3",
   "metadata": {},
   "outputs": [
    {
     "data": {
      "text/html": [
       "<div>\n",
       "<style scoped>\n",
       "    .dataframe tbody tr th:only-of-type {\n",
       "        vertical-align: middle;\n",
       "    }\n",
       "\n",
       "    .dataframe tbody tr th {\n",
       "        vertical-align: top;\n",
       "    }\n",
       "\n",
       "    .dataframe thead th {\n",
       "        text-align: right;\n",
       "    }\n",
       "</style>\n",
       "<table border=\"1\" class=\"dataframe\">\n",
       "  <thead>\n",
       "    <tr style=\"text-align: right;\">\n",
       "      <th></th>\n",
       "      <th>area</th>\n",
       "      <th>bedrooms</th>\n",
       "      <th>bathrooms</th>\n",
       "      <th>stories</th>\n",
       "      <th>parking</th>\n",
       "      <th>price</th>\n",
       "    </tr>\n",
       "  </thead>\n",
       "  <tbody>\n",
       "    <tr>\n",
       "      <th>0</th>\n",
       "      <td>7420</td>\n",
       "      <td>4</td>\n",
       "      <td>2</td>\n",
       "      <td>3</td>\n",
       "      <td>2</td>\n",
       "      <td>13300000</td>\n",
       "    </tr>\n",
       "    <tr>\n",
       "      <th>1</th>\n",
       "      <td>8960</td>\n",
       "      <td>4</td>\n",
       "      <td>4</td>\n",
       "      <td>4</td>\n",
       "      <td>3</td>\n",
       "      <td>12250000</td>\n",
       "    </tr>\n",
       "    <tr>\n",
       "      <th>2</th>\n",
       "      <td>9960</td>\n",
       "      <td>3</td>\n",
       "      <td>2</td>\n",
       "      <td>2</td>\n",
       "      <td>2</td>\n",
       "      <td>12250000</td>\n",
       "    </tr>\n",
       "    <tr>\n",
       "      <th>3</th>\n",
       "      <td>7500</td>\n",
       "      <td>4</td>\n",
       "      <td>2</td>\n",
       "      <td>2</td>\n",
       "      <td>3</td>\n",
       "      <td>12215000</td>\n",
       "    </tr>\n",
       "    <tr>\n",
       "      <th>4</th>\n",
       "      <td>7420</td>\n",
       "      <td>4</td>\n",
       "      <td>1</td>\n",
       "      <td>2</td>\n",
       "      <td>2</td>\n",
       "      <td>11410000</td>\n",
       "    </tr>\n",
       "  </tbody>\n",
       "</table>\n",
       "</div>"
      ],
      "text/plain": [
       "   area  bedrooms  bathrooms  stories  parking     price\n",
       "0  7420         4          2        3        2  13300000\n",
       "1  8960         4          4        4        3  12250000\n",
       "2  9960         3          2        2        2  12250000\n",
       "3  7500         4          2        2        3  12215000\n",
       "4  7420         4          1        2        2  11410000"
      ]
     },
     "execution_count": 3,
     "metadata": {},
     "output_type": "execute_result"
    }
   ],
   "source": [
    "num_vars = ['area', 'bedrooms', 'bathrooms', 'stories', 'parking','price'] \n",
    "Newtrain = housing[num_vars] \n",
    "Newtrain.head() "
   ]
  },
  {
   "cell_type": "code",
   "execution_count": 4,
   "id": "509f3053-e75c-483a-ab36-cdab134a1936",
   "metadata": {},
   "outputs": [],
   "source": [
    "from sklearn.model_selection import train_test_split \n",
    " \n",
    "# We specify this so that the train and test data set always have the same rows, respec\n",
    "np.random.seed(0) \n",
    "df_train, df_test = train_test_split(Newtrain, train_size = 0.8, test_size = 0.2, random_state=42)"
   ]
  },
  {
   "cell_type": "code",
   "execution_count": null,
   "id": "5e0f5293-f944-4427-ba84-e99a15ca28ee",
   "metadata": {},
   "outputs": [],
   "source": []
  },
  {
   "cell_type": "code",
   "execution_count": 5,
   "id": "93d12291-dc06-45d2-8272-2d243c09fc92",
   "metadata": {},
   "outputs": [],
   "source": [
    "trainArray = df_train.to_numpy()\n",
    "testArray = df_test.to_numpy()\n",
    "\n",
    "\n",
    "inputTrain = trainArray[:, 0:5]\n",
    "outputTrain = trainArray[:, 5]\n",
    "\n",
    "inputTest = testArray[:, 0:5]\n",
    "outputTest = testArray[:, 5]\n",
    "\n",
    "inputTrainT = torch.tensor(inputTrain)\n",
    "outputTrainT = torch.tensor(outputTrain)\n",
    "\n",
    "inputTestT = torch.tensor(inputTest)\n",
    "outputTestT = torch.tensor(outputTest)\n",
    "\n",
    "inputTrainT = inputTrainT.to(torch.float32)\n",
    "outputTrainT = outputTrainT.to(torch.float32)\n",
    "\n",
    "inputTestT = inputTestT.to(torch.float32)\n",
    "outputTestT = outputTestT.to(torch.float32)"
   ]
  },
  {
   "cell_type": "code",
   "execution_count": 6,
   "id": "05bfd965-4e38-4497-9954-64d207fdcba8",
   "metadata": {},
   "outputs": [
    {
     "name": "stderr",
     "output_type": "stream",
     "text": [
      "C:\\Users\\rando\\AppData\\Local\\Temp/ipykernel_10112/2610806285.py:11: UserWarning: To copy construct from a tensor, it is recommended to use sourceTensor.clone().detach() or sourceTensor.clone().detach().requires_grad_(True), rather than torch.tensor(sourceTensor).\n",
      "  outputTrainT = torch.tensor(outputTrainT).unsqueeze(1)\n",
      "C:\\Users\\rando\\AppData\\Local\\Temp/ipykernel_10112/2610806285.py:12: UserWarning: To copy construct from a tensor, it is recommended to use sourceTensor.clone().detach() or sourceTensor.clone().detach().requires_grad_(True), rather than torch.tensor(sourceTensor).\n",
      "  outputTestT = torch.tensor(outputTestT).unsqueeze(1)\n"
     ]
    },
    {
     "data": {
      "text/plain": [
       "torch.Size([436, 1])"
      ]
     },
     "execution_count": 6,
     "metadata": {},
     "output_type": "execute_result"
    }
   ],
   "source": [
    "inTrainMean = torch.mean(inputTrainT)\n",
    "outTrainMean = torch.mean(outputTrainT)\n",
    "\n",
    "inTrainStd = torch.std(inputTrainT)\n",
    "outTrainStd = torch.std(outputTrainT)\n",
    "\n",
    "inputTrainT = (inputTrainT - inTrainMean) / inTrainStd\n",
    "outputTrainT = (outputTrainT - outTrainMean) / outTrainStd\n",
    "\n",
    "\n",
    "outputTrainT = torch.tensor(outputTrainT).unsqueeze(1)\n",
    "outputTestT = torch.tensor(outputTestT).unsqueeze(1)\n",
    "outputTrainT.shape"
   ]
  },
  {
   "cell_type": "code",
   "execution_count": 7,
   "id": "3c4f289f-9fcb-48db-9bdc-6309e274a9bc",
   "metadata": {},
   "outputs": [
    {
     "data": {
      "text/plain": [
       "Sequential(\n",
       "  (0): Linear(in_features=5, out_features=8, bias=True)\n",
       "  (1): ReLU()\n",
       "  (2): Linear(in_features=8, out_features=1, bias=True)\n",
       ")"
      ]
     },
     "execution_count": 7,
     "metadata": {},
     "output_type": "execute_result"
    }
   ],
   "source": [
    "#Problem 1 Part A\n",
    "\n",
    "seq_model = nn.Sequential(\n",
    "            nn.Linear(5, 8),\n",
    "            nn.ReLU(),\n",
    "            nn.Linear(8,1))\n",
    "\n",
    "seq_model_2 = nn.Sequential(\n",
    "            nn.Linear(5, 8),\n",
    "            nn.ReLU(),\n",
    "            nn.Linear(8, 5),\n",
    "            nn.ReLU(),\n",
    "            nn.Linear(5, 5),\n",
    "            nn.ReLU(),\n",
    "            nn.Linear(5, 1))\n",
    "\n",
    "learningRate = 0.01\n",
    "optimizer = optim.SGD(seq_model.parameters(), lr = learningRate)\n",
    "seq_model"
   ]
  },
  {
   "cell_type": "code",
   "execution_count": 8,
   "id": "f7ea7a1a-a38b-418d-871d-bf6679594fb3",
   "metadata": {},
   "outputs": [],
   "source": [
    "def trainingLoop(numEpochs, optimizer, model, loss_fn, trainInput, trainOutput, valInput, valOutput):\n",
    "    for epoch in range(1, numEpochs + 1):\n",
    "        t_p_train = model(trainInput)\n",
    "        loss_train = loss_fn(t_p_train, trainOutput)\n",
    "        t_p_val = model(valInput)\n",
    "    \n",
    "        loss_val = loss_fn(t_p_val, valOutput)\n",
    "\n",
    "        optimizer.zero_grad()\n",
    "        loss_train.backward()\n",
    "        optimizer.step()\n",
    "\n",
    "        if (epoch > 100) and (epoch < 200) or (epoch % 1000) == 0:\n",
    "            print(f\"Epoch {epoch}, Training loss {loss_train.item():.4f},\"\n",
    "                  f\" Validation loss {loss_val.item():.4f}\")\n",
    "            "
   ]
  },
  {
   "cell_type": "code",
   "execution_count": 9,
   "id": "e94e84fb-ed43-48b5-8d5b-75bcfb1289a9",
   "metadata": {},
   "outputs": [],
   "source": [
    "trainingLoop(2000, optimizer, seq_model, nn.MSELoss(), inputTrainT, outputTrainT, inputTestT, outputTestT)"
   ]
  },
  {
   "cell_type": "code",
   "execution_count": 28,
   "id": "34749e1c-30ed-4db7-8e57-6a2a04bc07cd",
   "metadata": {},
   "outputs": [
    {
     "name": "stdout",
     "output_type": "stream",
     "text": [
      "Sequential(\n",
      "  0.0 M, 100.000% Params, 0.0 GMac, 100.000% MACs, \n",
      "  (0): Linear(0.0 M, 84.211% Params, 0.0 GMac, 73.846% MACs, in_features=5, out_features=8, bias=True)\n",
      "  (1): ReLU(0.0 M, 0.000% Params, 0.0 GMac, 12.308% MACs, )\n",
      "  (2): Linear(0.0 M, 15.789% Params, 0.0 GMac, 13.846% MACs, in_features=8, out_features=1, bias=True)\n",
      ")\n",
      "Computational complexity:       0.0 GMac\n",
      "Number of parameters:           57      \n"
     ]
    }
   ],
   "source": [
    "import torchvision.models as models\n",
    "from ptflops import get_model_complexity_info\n",
    "\n",
    "with torch.cuda.device(0):\n",
    "  macs, params = get_model_complexity_info(seq_model, (1, 5), as_strings=True,\n",
    "                                           print_per_layer_stat=True, verbose=True)\n",
    "  print('{:<30}  {:<8}'.format('Computational complexity: ', macs))\n",
    "  print('{:<30}  {:<8}'.format('Number of parameters: ', params))\n"
   ]
  },
  {
   "cell_type": "code",
   "execution_count": 11,
   "id": "dbdc96b5-bfef-45d6-919c-b11c9aa871f6",
   "metadata": {},
   "outputs": [],
   "source": [
    "learningRate = 0.05\n",
    "optimizer = optim.SGD(seq_model_2.parameters(), lr = learningRate)\n",
    "\n",
    "trainingLoop(3000, optimizer, seq_model_2, nn.MSELoss(), inputTrainT, outputTrainT, inputTestT, outputTestT)"
   ]
  },
  {
   "cell_type": "code",
   "execution_count": 27,
   "id": "665b27d0-e31f-4f5a-865d-5df9887be0f4",
   "metadata": {},
   "outputs": [
    {
     "name": "stdout",
     "output_type": "stream",
     "text": [
      "Sequential(\n",
      "  0.0 M, 100.000% Params, 0.0 GMac, 100.000% MACs, \n",
      "  (0): Linear(0.0 M, 37.209% Params, 0.0 GMac, 32.653% MACs, in_features=5, out_features=8, bias=True)\n",
      "  (1): ReLU(0.0 M, 0.000% Params, 0.0 GMac, 5.442% MACs, )\n",
      "  (2): Linear(0.0 M, 34.884% Params, 0.0 GMac, 30.612% MACs, in_features=8, out_features=5, bias=True)\n",
      "  (3): ReLU(0.0 M, 0.000% Params, 0.0 GMac, 3.401% MACs, )\n",
      "  (4): Linear(0.0 M, 23.256% Params, 0.0 GMac, 20.408% MACs, in_features=5, out_features=5, bias=True)\n",
      "  (5): ReLU(0.0 M, 0.000% Params, 0.0 GMac, 3.401% MACs, )\n",
      "  (6): Linear(0.0 M, 4.651% Params, 0.0 GMac, 4.082% MACs, in_features=5, out_features=1, bias=True)\n",
      ")\n",
      "Computational complexity:       0.0 GMac\n",
      "Number of parameters:           129     \n"
     ]
    }
   ],
   "source": [
    "with torch.cuda.device(0):\n",
    "  macs, params = get_model_complexity_info(seq_model_2, (1, 5), as_strings=True,\n",
    "                                           print_per_layer_stat=True, verbose=True)\n",
    "  print('{:<30}  {:<8}'.format('Computational complexity: ', macs))\n",
    "  print('{:<30}  {:<8}'.format('Number of parameters: ', params))\n"
   ]
  },
  {
   "cell_type": "code",
   "execution_count": 13,
   "id": "721ce06c-d935-47c0-85e4-80d62ade2afc",
   "metadata": {},
   "outputs": [],
   "source": [
    "#Problem 2"
   ]
  },
  {
   "cell_type": "code",
   "execution_count": null,
   "id": "b256d7c4-72b0-4a08-9218-8a6cca4a35fd",
   "metadata": {},
   "outputs": [],
   "source": []
  },
  {
   "cell_type": "code",
   "execution_count": 14,
   "id": "f4f8a64a-c885-4a9f-803d-570e6ab5a476",
   "metadata": {},
   "outputs": [
    {
     "name": "stdout",
     "output_type": "stream",
     "text": [
      "Files already downloaded and verified\n",
      "Files already downloaded and verified\n"
     ]
    }
   ],
   "source": [
    "from torchvision import datasets\n",
    "data_path = 'C:/Users/rando/Desktop/Real Time ML/HW2'\n",
    "cifar10 = datasets.CIFAR10(data_path, train=True, download=True, transform = transforms.ToTensor())\n",
    "cifar10_val = datasets.CIFAR10(data_path, train=False, download=True, transform = transforms.Compose([transforms.ToTensor(), transforms.Normalize((0.4195, 0.4823, 0.4468), (0.2470, 0.2435, 0.2616))]))"
   ]
  },
  {
   "cell_type": "code",
   "execution_count": 15,
   "id": "e2150961-d8be-4537-b6e3-b1fdabd58ecf",
   "metadata": {},
   "outputs": [
    {
     "data": {
      "text/plain": [
       "Sequential(\n",
       "  (0): Linear(in_features=3072, out_features=512, bias=True)\n",
       "  (1): ReLU()\n",
       "  (2): Linear(in_features=512, out_features=10, bias=True)\n",
       "  (3): LogSoftmax(dim=1)\n",
       ")"
      ]
     },
     "execution_count": 15,
     "metadata": {},
     "output_type": "execute_result"
    }
   ],
   "source": [
    "train_loader = torch.utils.data.DataLoader(cifar10, batch_size=64, shuffle=True)\n",
    "\n",
    "\n",
    "cifarModel = nn.Sequential(\n",
    "            nn.Linear(3072, 512),\n",
    "            nn.ReLU(),\n",
    "            nn.Linear(512,10),\n",
    "            nn.LogSoftmax(dim=1))\n",
    "cifarModel.cuda()\n"
   ]
  },
  {
   "cell_type": "code",
   "execution_count": 16,
   "id": "ffe22971-a1e1-45cb-bffd-9308b9db9fef",
   "metadata": {},
   "outputs": [],
   "source": [
    "learning_rate = 0.01\n",
    "optimizer = optim.SGD(cifarModel.parameters(), lr=learning_rate)\n",
    "\n",
    "loss_fn = nn.NLLLoss()\n",
    "\n",
    "n_epochs = 350"
   ]
  },
  {
   "cell_type": "code",
   "execution_count": 17,
   "id": "a1d77360-e605-4893-ad11-3e5684fe7598",
   "metadata": {},
   "outputs": [
    {
     "name": "stdout",
     "output_type": "stream",
     "text": [
      "Epoch: 0, Loss: 2.045917\n",
      "Epoch: 25, Loss: 1.805457\n",
      "Epoch: 50, Loss: 0.884993\n",
      "Epoch: 75, Loss: 1.566544\n",
      "Epoch: 100, Loss: 1.367481\n",
      "Epoch: 125, Loss: 0.615263\n",
      "Epoch: 150, Loss: 0.380259\n",
      "Epoch: 175, Loss: 0.437532\n",
      "Epoch: 200, Loss: 0.638911\n",
      "Epoch: 225, Loss: 0.212790\n",
      "Epoch: 250, Loss: 0.073755\n",
      "Epoch: 275, Loss: 0.252923\n",
      "Epoch: 300, Loss: 0.061228\n",
      "Epoch: 325, Loss: 0.176649\n"
     ]
    }
   ],
   "source": [
    "for epoch in range(n_epochs):\n",
    "    for imgs, labels in train_loader:\n",
    "        imgs = imgs.cuda()\n",
    "        labels = labels.cuda()\n",
    "        \n",
    "        batch_size = imgs.shape[0]\n",
    "        outputs = cifarModel(imgs.view(batch_size, -1))\n",
    "        loss = loss_fn(outputs, labels)\n",
    "        \n",
    "        optimizer.zero_grad()\n",
    "        loss.backward()\n",
    "        optimizer.step()\n",
    "    if (epoch % 25) == 0:    \n",
    "        print(\"Epoch: %d, Loss: %f\" % (epoch, float(loss)))"
   ]
  },
  {
   "cell_type": "code",
   "execution_count": 18,
   "id": "10f159e8-eb7b-4b07-aea0-6e8282585c77",
   "metadata": {},
   "outputs": [
    {
     "name": "stdout",
     "output_type": "stream",
     "text": [
      "Accuracy: %f 0.3553\n"
     ]
    }
   ],
   "source": [
    "val_loader = torch.utils.data.DataLoader(cifar10_val, batch_size=64, shuffle=False)\n",
    "\n",
    "correct = 0\n",
    "total = 0\n",
    "\n",
    "with torch.no_grad():\n",
    "    for imgs, labels in val_loader:\n",
    "        imgs = imgs.cuda()\n",
    "        labels = labels.cuda()\n",
    "        batch_size = imgs.shape[0]\n",
    "        outputs = cifarModel(imgs.view(batch_size, -1))\n",
    "        _, predicted = torch.max(outputs, dim=1)\n",
    "        total += labels.shape[0]\n",
    "        correct += int((predicted==labels).sum())\n",
    "        \n",
    "print(\"Accuracy: %f\", correct/total)"
   ]
  },
  {
   "cell_type": "code",
   "execution_count": 26,
   "id": "0bbbe0b0-2adc-447c-a35a-41ceedab147a",
   "metadata": {},
   "outputs": [
    {
     "name": "stdout",
     "output_type": "stream",
     "text": [
      "Warning: module LogSoftmax is treated as a zero-op.\n",
      "Sequential(\n",
      "  1.579 M, 100.000% Params, 0.002 GMac, 100.000% MACs, \n",
      "  (0): Linear(1.573 M, 99.675% Params, 0.002 GMac, 99.643% MACs, in_features=3072, out_features=512, bias=True)\n",
      "  (1): ReLU(0.0 M, 0.000% Params, 0.0 GMac, 0.032% MACs, )\n",
      "  (2): Linear(0.005 M, 0.325% Params, 0.0 GMac, 0.325% MACs, in_features=512, out_features=10, bias=True)\n",
      "  (3): LogSoftmax(0.0 M, 0.000% Params, 0.0 GMac, 0.000% MACs, dim=1)\n",
      ")\n",
      "Computational complexity:       0.0 GMac\n",
      "Number of parameters:           1.58 M  \n"
     ]
    }
   ],
   "source": [
    "with torch.cuda.device(0):\n",
    "  macs, params = get_model_complexity_info(cifarModel, (1, 3072), as_strings=True,\n",
    "                                           print_per_layer_stat=True, verbose=True)\n",
    "  print('{:<30}  {:<8}'.format('Computational complexity: ', macs))\n",
    "  print('{:<30}  {:<8}'.format('Number of parameters: ', params))\n"
   ]
  },
  {
   "cell_type": "code",
   "execution_count": 20,
   "id": "473393b2-ba1d-495d-a889-abbea337e649",
   "metadata": {},
   "outputs": [
    {
     "data": {
      "text/plain": [
       "Sequential(\n",
       "  (0): Linear(in_features=3072, out_features=512, bias=True)\n",
       "  (1): ReLU()\n",
       "  (2): Linear(in_features=512, out_features=512, bias=True)\n",
       "  (3): ReLU()\n",
       "  (4): Linear(in_features=512, out_features=128, bias=True)\n",
       "  (5): ReLU()\n",
       "  (6): Linear(in_features=128, out_features=10, bias=True)\n",
       "  (7): LogSoftmax(dim=1)\n",
       ")"
      ]
     },
     "execution_count": 20,
     "metadata": {},
     "output_type": "execute_result"
    }
   ],
   "source": [
    "cifarModel_2 = nn.Sequential(\n",
    "            nn.Linear(3072, 512),\n",
    "            nn.ReLU(),\n",
    "            nn.Linear(512,512),\n",
    "            nn.ReLU(),\n",
    "            nn.Linear(512, 128),\n",
    "            nn.ReLU(),\n",
    "            nn.Linear(128, 10),\n",
    "            nn.LogSoftmax(dim=1))\n",
    "cifarModel_2.cuda()"
   ]
  },
  {
   "cell_type": "code",
   "execution_count": 21,
   "id": "8008fe7b-b9d4-4762-a2aa-e0a46d9e89c0",
   "metadata": {},
   "outputs": [],
   "source": [
    "learning_rate = 0.01\n",
    "optimizer = optim.SGD(cifarModel_2.parameters(), lr=learning_rate)\n",
    "\n",
    "loss_fn = nn.NLLLoss()\n",
    "\n",
    "n_epochs = 350"
   ]
  },
  {
   "cell_type": "code",
   "execution_count": 22,
   "id": "5b62c9f5-44ee-46d3-81be-bd1bc23a7338",
   "metadata": {},
   "outputs": [
    {
     "name": "stdout",
     "output_type": "stream",
     "text": [
      "Epoch: 0, Loss: 2.052646\n",
      "Epoch: 25, Loss: 1.133580\n",
      "Epoch: 50, Loss: 0.637191\n",
      "Epoch: 75, Loss: 0.460126\n",
      "Epoch: 100, Loss: 0.125307\n",
      "Epoch: 125, Loss: 0.828143\n",
      "Epoch: 150, Loss: 0.006734\n",
      "Epoch: 175, Loss: 0.000433\n",
      "Epoch: 200, Loss: 0.001567\n",
      "Epoch: 225, Loss: 0.001868\n",
      "Epoch: 250, Loss: 0.000816\n",
      "Epoch: 275, Loss: 0.001290\n",
      "Epoch: 300, Loss: 0.001010\n",
      "Epoch: 325, Loss: 0.001172\n"
     ]
    }
   ],
   "source": [
    "for epoch in range(n_epochs):\n",
    "    for imgs, labels in train_loader:\n",
    "        imgs = imgs.cuda()\n",
    "        labels = labels.cuda()\n",
    "        \n",
    "        batch_size = imgs.shape[0]\n",
    "        outputs = cifarModel_2(imgs.view(batch_size, -1))\n",
    "        loss = loss_fn(outputs, labels)\n",
    "        \n",
    "        optimizer.zero_grad()\n",
    "        loss.backward()\n",
    "        optimizer.step()\n",
    "    if (epoch % 25) == 0:    \n",
    "        print(\"Epoch: %d, Loss: %f\" % (epoch, float(loss)))"
   ]
  },
  {
   "cell_type": "code",
   "execution_count": 23,
   "id": "38a76312-8fd7-4e5b-beb8-e3da70733eea",
   "metadata": {},
   "outputs": [
    {
     "name": "stdout",
     "output_type": "stream",
     "text": [
      "Accuracy: %f 0.3807\n"
     ]
    }
   ],
   "source": [
    "correct = 0\n",
    "total = 0\n",
    "\n",
    "with torch.no_grad():\n",
    "    for imgs, labels in val_loader:\n",
    "        imgs = imgs.cuda()\n",
    "        labels = labels.cuda()\n",
    "        batch_size = imgs.shape[0]\n",
    "        outputs = cifarModel_2(imgs.view(batch_size, -1))\n",
    "        _, predicted = torch.max(outputs, dim=1)\n",
    "        total += labels.shape[0]\n",
    "        correct += int((predicted==labels).sum())\n",
    "        \n",
    "print(\"Accuracy: %f\", correct/total)"
   ]
  },
  {
   "cell_type": "code",
   "execution_count": 25,
   "id": "cc34e3e4-d900-4828-aade-977ae3df73ab",
   "metadata": {},
   "outputs": [
    {
     "name": "stdout",
     "output_type": "stream",
     "text": [
      "Warning: module LogSoftmax is treated as a zero-op.\n",
      "Sequential(\n",
      "  1.903 M, 100.000% Params, 0.002 GMac, 100.000% MACs, \n",
      "  (0): Linear(1.573 M, 82.679% Params, 0.002 GMac, 82.629% MACs, in_features=3072, out_features=512, bias=True)\n",
      "  (1): ReLU(0.0 M, 0.000% Params, 0.0 GMac, 0.027% MACs, )\n",
      "  (2): Linear(0.263 M, 13.802% Params, 0.0 GMac, 13.794% MACs, in_features=512, out_features=512, bias=True)\n",
      "  (3): ReLU(0.0 M, 0.000% Params, 0.0 GMac, 0.027% MACs, )\n",
      "  (4): Linear(0.066 M, 3.451% Params, 0.0 GMac, 3.448% MACs, in_features=512, out_features=128, bias=True)\n",
      "  (5): ReLU(0.0 M, 0.000% Params, 0.0 GMac, 0.007% MACs, )\n",
      "  (6): Linear(0.001 M, 0.068% Params, 0.0 GMac, 0.068% MACs, in_features=128, out_features=10, bias=True)\n",
      "  (7): LogSoftmax(0.0 M, 0.000% Params, 0.0 GMac, 0.000% MACs, dim=1)\n",
      ")\n",
      "Computational complexity:       0.0 GMac\n",
      "Number of parameters:           1.9 M   \n"
     ]
    }
   ],
   "source": [
    "with torch.cuda.device(0):\n",
    "  macs, params = get_model_complexity_info(cifarModel_2, (1, 3072), as_strings=True,\n",
    "                                           print_per_layer_stat=True, verbose=True)\n",
    "  print('{:<30}  {:<8}'.format('Computational complexity: ', macs))\n",
    "  print('{:<30}  {:<8}'.format('Number of parameters: ', params))"
   ]
  },
  {
   "cell_type": "code",
   "execution_count": null,
   "id": "dbf576a3-eb4a-4510-9b99-baf7c1891e44",
   "metadata": {},
   "outputs": [],
   "source": []
  },
  {
   "cell_type": "code",
   "execution_count": null,
   "id": "e65d889f-ea85-4603-a7c7-56f71b99c030",
   "metadata": {},
   "outputs": [],
   "source": []
  }
 ],
 "metadata": {
  "kernelspec": {
   "display_name": "Python 3 (ipykernel)",
   "language": "python",
   "name": "python3"
  },
  "language_info": {
   "codemirror_mode": {
    "name": "ipython",
    "version": 3
   },
   "file_extension": ".py",
   "mimetype": "text/x-python",
   "name": "python",
   "nbconvert_exporter": "python",
   "pygments_lexer": "ipython3",
   "version": "3.9.7"
  }
 },
 "nbformat": 4,
 "nbformat_minor": 5
}
